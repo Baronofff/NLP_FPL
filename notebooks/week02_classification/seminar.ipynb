{
 "cells": [
  {
   "cell_type": "markdown",
   "metadata": {},
   "source": [
    "# Large scale text analysis with deep learning (3 points)"
   ]
  },
  {
   "cell_type": "markdown",
   "metadata": {},
   "source": [
    "In this assignment, you will develop a deep learning model to predict salaries based on resumes (credits to to [Oleg Vasilev](https://github.com/Omrigan/)). While we will begin this project during our seminar class, it will require additional effort on your part to finalize and submit it as homework.\n",
    "\n",
    "Following this, there is a supplementary task in another notebook titled homework_part2.ipynb. In this task, you are expected to conduct a more extensive study. This will involve testing various architectures to optimize prediction accuracy.\n",
    "\n",
    "To secure full marks for this assignment, ensure a consistent training process with an MSE loss falling below 0.10. If necessary, feel free to experiment with different parameters and model architectures. If you achieve the desired results in the homework_part2.ipynb, you can either replicate your solution here or reference it explicitly in the comments when you submit."
   ]
  },
  {
   "cell_type": "code",
   "execution_count": 1,
   "metadata": {},
   "outputs": [],
   "source": [
    "import numpy as np\n",
    "import pandas as pd\n",
    "import matplotlib.pyplot as plt\n",
    "%matplotlib inline"
   ]
  },
  {
   "cell_type": "markdown",
   "metadata": {},
   "source": [
    "### About the challenge\n",
    "For starters, let's download and unpack the data from \n",
    "1) Yandex-disk [yadisk url](https://yadi.sk/d/vVEOWPFY3NruT7), or\n",
    "2) the Kaggle ompetition [page](https://www.kaggle.com/c/job-salary-prediction/data) (pick `Train_rev1.*`)."
   ]
  },
  {
   "cell_type": "code",
   "execution_count": 2,
   "metadata": {},
   "outputs": [
    {
     "data": {
      "text/plain": [
       "(244768, 12)"
      ]
     },
     "execution_count": 2,
     "metadata": {},
     "output_type": "execute_result"
    }
   ],
   "source": [
    "data = pd.read_csv(\"../../data/Train_rev1.csv\", index_col=None)\n",
    "data.shape"
   ]
  },
  {
   "cell_type": "code",
   "execution_count": 3,
   "metadata": {},
   "outputs": [
    {
     "data": {
      "text/html": [
       "<div>\n",
       "<style scoped>\n",
       "    .dataframe tbody tr th:only-of-type {\n",
       "        vertical-align: middle;\n",
       "    }\n",
       "\n",
       "    .dataframe tbody tr th {\n",
       "        vertical-align: top;\n",
       "    }\n",
       "\n",
       "    .dataframe thead th {\n",
       "        text-align: right;\n",
       "    }\n",
       "</style>\n",
       "<table border=\"1\" class=\"dataframe\">\n",
       "  <thead>\n",
       "    <tr style=\"text-align: right;\">\n",
       "      <th></th>\n",
       "      <th>Id</th>\n",
       "      <th>Title</th>\n",
       "      <th>FullDescription</th>\n",
       "      <th>LocationRaw</th>\n",
       "      <th>LocationNormalized</th>\n",
       "      <th>ContractType</th>\n",
       "      <th>ContractTime</th>\n",
       "      <th>Company</th>\n",
       "      <th>Category</th>\n",
       "      <th>SalaryRaw</th>\n",
       "      <th>SalaryNormalized</th>\n",
       "      <th>SourceName</th>\n",
       "    </tr>\n",
       "  </thead>\n",
       "  <tbody>\n",
       "    <tr>\n",
       "      <th>0</th>\n",
       "      <td>12612628</td>\n",
       "      <td>Engineering Systems Analyst</td>\n",
       "      <td>Engineering Systems Analyst Dorking Surrey Sal...</td>\n",
       "      <td>Dorking, Surrey, Surrey</td>\n",
       "      <td>Dorking</td>\n",
       "      <td>NaN</td>\n",
       "      <td>permanent</td>\n",
       "      <td>Gregory Martin International</td>\n",
       "      <td>Engineering Jobs</td>\n",
       "      <td>20000 - 30000/annum 20-30K</td>\n",
       "      <td>25000</td>\n",
       "      <td>cv-library.co.uk</td>\n",
       "    </tr>\n",
       "    <tr>\n",
       "      <th>1</th>\n",
       "      <td>12612830</td>\n",
       "      <td>Stress Engineer Glasgow</td>\n",
       "      <td>Stress Engineer Glasgow Salary **** to **** We...</td>\n",
       "      <td>Glasgow, Scotland, Scotland</td>\n",
       "      <td>Glasgow</td>\n",
       "      <td>NaN</td>\n",
       "      <td>permanent</td>\n",
       "      <td>Gregory Martin International</td>\n",
       "      <td>Engineering Jobs</td>\n",
       "      <td>25000 - 35000/annum 25-35K</td>\n",
       "      <td>30000</td>\n",
       "      <td>cv-library.co.uk</td>\n",
       "    </tr>\n",
       "    <tr>\n",
       "      <th>2</th>\n",
       "      <td>12612844</td>\n",
       "      <td>Modelling and simulation analyst</td>\n",
       "      <td>Mathematical Modeller / Simulation Analyst / O...</td>\n",
       "      <td>Hampshire, South East, South East</td>\n",
       "      <td>Hampshire</td>\n",
       "      <td>NaN</td>\n",
       "      <td>permanent</td>\n",
       "      <td>Gregory Martin International</td>\n",
       "      <td>Engineering Jobs</td>\n",
       "      <td>20000 - 40000/annum 20-40K</td>\n",
       "      <td>30000</td>\n",
       "      <td>cv-library.co.uk</td>\n",
       "    </tr>\n",
       "    <tr>\n",
       "      <th>3</th>\n",
       "      <td>12613049</td>\n",
       "      <td>Engineering Systems Analyst / Mathematical Mod...</td>\n",
       "      <td>Engineering Systems Analyst / Mathematical Mod...</td>\n",
       "      <td>Surrey, South East, South East</td>\n",
       "      <td>Surrey</td>\n",
       "      <td>NaN</td>\n",
       "      <td>permanent</td>\n",
       "      <td>Gregory Martin International</td>\n",
       "      <td>Engineering Jobs</td>\n",
       "      <td>25000 - 30000/annum 25K-30K negotiable</td>\n",
       "      <td>27500</td>\n",
       "      <td>cv-library.co.uk</td>\n",
       "    </tr>\n",
       "    <tr>\n",
       "      <th>4</th>\n",
       "      <td>12613647</td>\n",
       "      <td>Pioneer, Miser Engineering Systems Analyst</td>\n",
       "      <td>Pioneer, Miser  Engineering Systems Analyst Do...</td>\n",
       "      <td>Surrey, South East, South East</td>\n",
       "      <td>Surrey</td>\n",
       "      <td>NaN</td>\n",
       "      <td>permanent</td>\n",
       "      <td>Gregory Martin International</td>\n",
       "      <td>Engineering Jobs</td>\n",
       "      <td>20000 - 30000/annum 20-30K</td>\n",
       "      <td>25000</td>\n",
       "      <td>cv-library.co.uk</td>\n",
       "    </tr>\n",
       "    <tr>\n",
       "      <th>...</th>\n",
       "      <td>...</td>\n",
       "      <td>...</td>\n",
       "      <td>...</td>\n",
       "      <td>...</td>\n",
       "      <td>...</td>\n",
       "      <td>...</td>\n",
       "      <td>...</td>\n",
       "      <td>...</td>\n",
       "      <td>...</td>\n",
       "      <td>...</td>\n",
       "      <td>...</td>\n",
       "      <td>...</td>\n",
       "    </tr>\n",
       "    <tr>\n",
       "      <th>244763</th>\n",
       "      <td>72705211</td>\n",
       "      <td>TEACHER OF SCIENCE</td>\n",
       "      <td>Position: Qualified Teacher Subject/Specialism...</td>\n",
       "      <td>Swindon</td>\n",
       "      <td>Swindon</td>\n",
       "      <td>NaN</td>\n",
       "      <td>contract</td>\n",
       "      <td>NaN</td>\n",
       "      <td>Teaching Jobs</td>\n",
       "      <td>450 - 500 per week</td>\n",
       "      <td>22800</td>\n",
       "      <td>hays.co.uk</td>\n",
       "    </tr>\n",
       "    <tr>\n",
       "      <th>244764</th>\n",
       "      <td>72705212</td>\n",
       "      <td>TEACHER OF BUSINESS STUDIES AND ICT</td>\n",
       "      <td>Position: Qualified Teacher or NQT Subject/Spe...</td>\n",
       "      <td>Swindon</td>\n",
       "      <td>Swindon</td>\n",
       "      <td>NaN</td>\n",
       "      <td>contract</td>\n",
       "      <td>NaN</td>\n",
       "      <td>Teaching Jobs</td>\n",
       "      <td>450 - 500 per week</td>\n",
       "      <td>22800</td>\n",
       "      <td>hays.co.uk</td>\n",
       "    </tr>\n",
       "    <tr>\n",
       "      <th>244765</th>\n",
       "      <td>72705213</td>\n",
       "      <td>ENGLISH TEACHER</td>\n",
       "      <td>Position: Qualified Teacher Subject/Specialism...</td>\n",
       "      <td>Swindon</td>\n",
       "      <td>Swindon</td>\n",
       "      <td>NaN</td>\n",
       "      <td>contract</td>\n",
       "      <td>NaN</td>\n",
       "      <td>Teaching Jobs</td>\n",
       "      <td>450 - 500 per week</td>\n",
       "      <td>22800</td>\n",
       "      <td>hays.co.uk</td>\n",
       "    </tr>\n",
       "    <tr>\n",
       "      <th>244766</th>\n",
       "      <td>72705216</td>\n",
       "      <td>SUPPLY TEACHERS</td>\n",
       "      <td>Position: Qualified Teacher Subject/Specialism...</td>\n",
       "      <td>Wiltshire</td>\n",
       "      <td>Wiltshire</td>\n",
       "      <td>NaN</td>\n",
       "      <td>contract</td>\n",
       "      <td>NaN</td>\n",
       "      <td>Teaching Jobs</td>\n",
       "      <td>450 to 500 per week</td>\n",
       "      <td>22800</td>\n",
       "      <td>hays.co.uk</td>\n",
       "    </tr>\n",
       "    <tr>\n",
       "      <th>244767</th>\n",
       "      <td>72705235</td>\n",
       "      <td>Accountant</td>\n",
       "      <td>This entrepreneurial and growing private equit...</td>\n",
       "      <td>Hitchin</td>\n",
       "      <td>Hitchin</td>\n",
       "      <td>NaN</td>\n",
       "      <td>permanent</td>\n",
       "      <td>NaN</td>\n",
       "      <td>Teaching Jobs</td>\n",
       "      <td>40-45,000</td>\n",
       "      <td>42500</td>\n",
       "      <td>hays.co.uk</td>\n",
       "    </tr>\n",
       "  </tbody>\n",
       "</table>\n",
       "<p>244768 rows × 12 columns</p>\n",
       "</div>"
      ],
      "text/plain": [
       "              Id                                              Title  \\\n",
       "0       12612628                        Engineering Systems Analyst   \n",
       "1       12612830                            Stress Engineer Glasgow   \n",
       "2       12612844                   Modelling and simulation analyst   \n",
       "3       12613049  Engineering Systems Analyst / Mathematical Mod...   \n",
       "4       12613647         Pioneer, Miser Engineering Systems Analyst   \n",
       "...          ...                                                ...   \n",
       "244763  72705211                                 TEACHER OF SCIENCE   \n",
       "244764  72705212                TEACHER OF BUSINESS STUDIES AND ICT   \n",
       "244765  72705213                                    ENGLISH TEACHER   \n",
       "244766  72705216                                    SUPPLY TEACHERS   \n",
       "244767  72705235                                         Accountant   \n",
       "\n",
       "                                          FullDescription  \\\n",
       "0       Engineering Systems Analyst Dorking Surrey Sal...   \n",
       "1       Stress Engineer Glasgow Salary **** to **** We...   \n",
       "2       Mathematical Modeller / Simulation Analyst / O...   \n",
       "3       Engineering Systems Analyst / Mathematical Mod...   \n",
       "4       Pioneer, Miser  Engineering Systems Analyst Do...   \n",
       "...                                                   ...   \n",
       "244763  Position: Qualified Teacher Subject/Specialism...   \n",
       "244764  Position: Qualified Teacher or NQT Subject/Spe...   \n",
       "244765  Position: Qualified Teacher Subject/Specialism...   \n",
       "244766  Position: Qualified Teacher Subject/Specialism...   \n",
       "244767  This entrepreneurial and growing private equit...   \n",
       "\n",
       "                              LocationRaw LocationNormalized ContractType  \\\n",
       "0                 Dorking, Surrey, Surrey            Dorking          NaN   \n",
       "1             Glasgow, Scotland, Scotland            Glasgow          NaN   \n",
       "2       Hampshire, South East, South East          Hampshire          NaN   \n",
       "3          Surrey, South East, South East             Surrey          NaN   \n",
       "4          Surrey, South East, South East             Surrey          NaN   \n",
       "...                                   ...                ...          ...   \n",
       "244763                            Swindon            Swindon          NaN   \n",
       "244764                            Swindon            Swindon          NaN   \n",
       "244765                            Swindon            Swindon          NaN   \n",
       "244766                          Wiltshire          Wiltshire          NaN   \n",
       "244767                            Hitchin            Hitchin          NaN   \n",
       "\n",
       "       ContractTime                       Company          Category  \\\n",
       "0         permanent  Gregory Martin International  Engineering Jobs   \n",
       "1         permanent  Gregory Martin International  Engineering Jobs   \n",
       "2         permanent  Gregory Martin International  Engineering Jobs   \n",
       "3         permanent  Gregory Martin International  Engineering Jobs   \n",
       "4         permanent  Gregory Martin International  Engineering Jobs   \n",
       "...             ...                           ...               ...   \n",
       "244763     contract                           NaN     Teaching Jobs   \n",
       "244764     contract                           NaN     Teaching Jobs   \n",
       "244765     contract                           NaN     Teaching Jobs   \n",
       "244766     contract                           NaN     Teaching Jobs   \n",
       "244767    permanent                           NaN     Teaching Jobs   \n",
       "\n",
       "                                     SalaryRaw  SalaryNormalized  \\\n",
       "0                   20000 - 30000/annum 20-30K             25000   \n",
       "1                   25000 - 35000/annum 25-35K             30000   \n",
       "2                   20000 - 40000/annum 20-40K             30000   \n",
       "3       25000 - 30000/annum 25K-30K negotiable             27500   \n",
       "4                   20000 - 30000/annum 20-30K             25000   \n",
       "...                                        ...               ...   \n",
       "244763                      450 - 500 per week             22800   \n",
       "244764                      450 - 500 per week             22800   \n",
       "244765                      450 - 500 per week             22800   \n",
       "244766                     450 to 500 per week             22800   \n",
       "244767                               40-45,000             42500   \n",
       "\n",
       "              SourceName  \n",
       "0       cv-library.co.uk  \n",
       "1       cv-library.co.uk  \n",
       "2       cv-library.co.uk  \n",
       "3       cv-library.co.uk  \n",
       "4       cv-library.co.uk  \n",
       "...                  ...  \n",
       "244763        hays.co.uk  \n",
       "244764        hays.co.uk  \n",
       "244765        hays.co.uk  \n",
       "244766        hays.co.uk  \n",
       "244767        hays.co.uk  \n",
       "\n",
       "[244768 rows x 12 columns]"
      ]
     },
     "execution_count": 3,
     "metadata": {},
     "output_type": "execute_result"
    }
   ],
   "source": [
    "data"
   ]
  },
  {
   "cell_type": "code",
   "execution_count": 4,
   "metadata": {},
   "outputs": [
    {
     "data": {
      "text/plain": [
       "0    Engineering Systems Analyst Dorking Surrey Sal...\n",
       "Name: FullDescription, dtype: object"
      ]
     },
     "execution_count": 4,
     "metadata": {},
     "output_type": "execute_result"
    }
   ],
   "source": [
    "data.FullDescription.head(1)"
   ]
  },
  {
   "cell_type": "markdown",
   "metadata": {},
   "source": [
    "One problem with salary prediction is that it's oddly distributed: there are many people who are paid standard salaries and a few that get tons o money. The distribution is fat-tailed on the right side, which is inconvenient for MSE minimization.\n",
    "\n",
    "There are several techniques to combat this: using a different loss function, predicting log-target instead of raw target or even replacing targets with their percentiles among all salaries in the training set. We gonna use logarithm for now.\n",
    "\n",
    "_You can read more [in the official description](https://www.kaggle.com/c/job-salary-prediction#description)._"
   ]
  },
  {
   "cell_type": "code",
   "execution_count": 5,
   "metadata": {},
   "outputs": [
    {
     "data": {
      "image/png": "[encoded data removed]",
      "text/plain": [
       "<Figure size 800x400 with 2 Axes>"
      ]
     },
     "metadata": {},
     "output_type": "display_data"
    }
   ],
   "source": [
    "data['Log1pSalary'] = np.log1p(data['SalaryNormalized']).astype('float32')\n",
    "\n",
    "plt.figure(figsize=[8, 4])\n",
    "plt.subplot(1, 2, 1)\n",
    "plt.hist(data[\"SalaryNormalized\"], bins=20);\n",
    "\n",
    "plt.subplot(1, 2, 2)\n",
    "plt.hist(data['Log1pSalary'], bins=20);"
   ]
  },
  {
   "cell_type": "markdown",
   "metadata": {},
   "source": [
    "Our task is to predict one number, __Log1pSalary__.\n",
    "\n",
    "To do so, our model can access a number of features:\n",
    "* Free text: __`Title`__ and  __`FullDescription`__\n",
    "* Categorical: __`Category`__, __`Company`__, __`LocationNormalized`__, __`ContractType`__, and __`ContractTime`__."
   ]
  },
  {
   "cell_type": "code",
   "execution_count": 6,
   "metadata": {},
   "outputs": [
    {
     "data": {
      "text/html": [
       "<div>\n",
       "<style scoped>\n",
       "    .dataframe tbody tr th:only-of-type {\n",
       "        vertical-align: middle;\n",
       "    }\n",
       "\n",
       "    .dataframe tbody tr th {\n",
       "        vertical-align: top;\n",
       "    }\n",
       "\n",
       "    .dataframe thead th {\n",
       "        text-align: right;\n",
       "    }\n",
       "</style>\n",
       "<table border=\"1\" class=\"dataframe\">\n",
       "  <thead>\n",
       "    <tr style=\"text-align: right;\">\n",
       "      <th></th>\n",
       "      <th>Id</th>\n",
       "      <th>Title</th>\n",
       "      <th>FullDescription</th>\n",
       "      <th>LocationRaw</th>\n",
       "      <th>LocationNormalized</th>\n",
       "      <th>ContractType</th>\n",
       "      <th>ContractTime</th>\n",
       "      <th>Company</th>\n",
       "      <th>Category</th>\n",
       "      <th>SalaryRaw</th>\n",
       "      <th>SalaryNormalized</th>\n",
       "      <th>SourceName</th>\n",
       "      <th>Log1pSalary</th>\n",
       "    </tr>\n",
       "  </thead>\n",
       "  <tbody>\n",
       "    <tr>\n",
       "      <th>226720</th>\n",
       "      <td>72442495</td>\n",
       "      <td>Payroll Clerk</td>\n",
       "      <td>PAYROLL CLERK PERMANENT/ FULL TIME We are seek...</td>\n",
       "      <td>Whitby, North Yorkshire North Yorkshire Yorkshire</td>\n",
       "      <td>Whitby</td>\n",
       "      <td>NaN</td>\n",
       "      <td>permanent</td>\n",
       "      <td>Interaction   York</td>\n",
       "      <td>Accounting &amp; Finance Jobs</td>\n",
       "      <td>20k per year</td>\n",
       "      <td>20000</td>\n",
       "      <td>totaljobs.com</td>\n",
       "      <td>9.903538</td>\n",
       "    </tr>\n",
       "    <tr>\n",
       "      <th>60248</th>\n",
       "      <td>68692993</td>\n",
       "      <td>Senior Recruitment Consultants</td>\n",
       "      <td>Be part of our ambitious expansion plans. Havi...</td>\n",
       "      <td>City London South East</td>\n",
       "      <td>London</td>\n",
       "      <td>NaN</td>\n",
       "      <td>permanent</td>\n",
       "      <td>Portfolio Payroll Ltd</td>\n",
       "      <td>HR &amp; Recruitment Jobs</td>\n",
       "      <td>40000 - 70000 per annum</td>\n",
       "      <td>55000</td>\n",
       "      <td>totaljobs.com</td>\n",
       "      <td>10.915107</td>\n",
       "    </tr>\n",
       "    <tr>\n",
       "      <th>169997</th>\n",
       "      <td>71352565</td>\n",
       "      <td>Aircraft Technician</td>\n",
       "      <td>Mechanical Aircraft Technician is required to ...</td>\n",
       "      <td>Oxfordshire, South East</td>\n",
       "      <td>Oxfordshire</td>\n",
       "      <td>NaN</td>\n",
       "      <td>permanent</td>\n",
       "      <td>NaN</td>\n",
       "      <td>Other/General Jobs</td>\n",
       "      <td>21457 per annum</td>\n",
       "      <td>21457</td>\n",
       "      <td>jobs.telegraph.co.uk</td>\n",
       "      <td>9.973853</td>\n",
       "    </tr>\n",
       "  </tbody>\n",
       "</table>\n",
       "</div>"
      ],
      "text/plain": [
       "              Id                           Title  \\\n",
       "226720  72442495                   Payroll Clerk   \n",
       "60248   68692993  Senior Recruitment Consultants   \n",
       "169997  71352565             Aircraft Technician   \n",
       "\n",
       "                                          FullDescription  \\\n",
       "226720  PAYROLL CLERK PERMANENT/ FULL TIME We are seek...   \n",
       "60248   Be part of our ambitious expansion plans. Havi...   \n",
       "169997  Mechanical Aircraft Technician is required to ...   \n",
       "\n",
       "                                              LocationRaw LocationNormalized  \\\n",
       "226720  Whitby, North Yorkshire North Yorkshire Yorkshire             Whitby   \n",
       "60248                              City London South East             London   \n",
       "169997                            Oxfordshire, South East        Oxfordshire   \n",
       "\n",
       "       ContractType ContractTime                Company  \\\n",
       "226720          NaN    permanent     Interaction   York   \n",
       "60248           NaN    permanent  Portfolio Payroll Ltd   \n",
       "169997          NaN    permanent                    NaN   \n",
       "\n",
       "                         Category                SalaryRaw  SalaryNormalized  \\\n",
       "226720  Accounting & Finance Jobs             20k per year             20000   \n",
       "60248       HR & Recruitment Jobs  40000 - 70000 per annum             55000   \n",
       "169997         Other/General Jobs          21457 per annum             21457   \n",
       "\n",
       "                  SourceName  Log1pSalary  \n",
       "226720         totaljobs.com     9.903538  \n",
       "60248          totaljobs.com    10.915107  \n",
       "169997  jobs.telegraph.co.uk     9.973853  "
      ]
     },
     "execution_count": 6,
     "metadata": {},
     "output_type": "execute_result"
    }
   ],
   "source": [
    "text_columns = [\"Title\", \"FullDescription\"]\n",
    "categorical_columns = [\"Category\", \"Company\", \"LocationNormalized\", \"ContractType\", \"ContractTime\"]\n",
    "TARGET_COLUMN = \"Log1pSalary\"\n",
    "\n",
    "data[categorical_columns] = data[categorical_columns].fillna('NaN') # cast missing values to string \"NaN\"\n",
    "\n",
    "data.sample(3)"
   ]
  },
  {
   "cell_type": "markdown",
   "metadata": {},
   "source": [
    "### Preprocessing text data\n",
    "\n",
    "Just like last week, applying NLP to a problem begins from tokenization: splitting raw text into sequences of tokens (words, punctuation, etc).\n",
    "\n",
    "__Your task__ is to lowercase and tokenize all texts under `Title` and `FullDescription` columns. Store the tokenized data as a __space-separated__ string of tokens for performance reasons.\n",
    "\n",
    "It's okay to use nltk tokenizers. Assertions were designed for WordPunctTokenizer, slight deviations are okay."
   ]
  },
  {
   "cell_type": "code",
   "execution_count": 7,
   "metadata": {
    "scrolled": true
   },
   "outputs": [
    {
     "name": "stdout",
     "output_type": "stream",
     "text": [
      "Raw text:\n",
      "2         Mathematical Modeller / Simulation Analyst / O...\n",
      "100002    A successful and high achieving specialist sch...\n",
      "200002    Web Designer  HTML, CSS, JavaScript, Photoshop...\n",
      "Name: FullDescription, dtype: object\n"
     ]
    }
   ],
   "source": [
    "print(\"Raw text:\")\n",
    "print(data[\"FullDescription\"][2::100000])"
   ]
  },
  {
   "cell_type": "code",
   "execution_count": 8,
   "metadata": {},
   "outputs": [],
   "source": [
    "import nltk\n",
    "#TODO YOUR CODE HERE\n",
    "\n",
    "tokenizer = nltk.tokenize.WordPunctTokenizer()\n",
    "data[\"FullDescription\"] = data[\"FullDescription\"].apply(\n",
    "    lambda x: \" \".join(tokenizer.tokenize(x.lower())) \n",
    ")\n",
    "data[\"Title\"] = data[\"Title\"].apply(\n",
    "    lambda x: \" \".join(tokenizer.tokenize(str(x).lower())) \n",
    ")"
   ]
  },
  {
   "cell_type": "markdown",
   "metadata": {},
   "source": [
    "Now we can assume that our text is a space-separated list of tokens:"
   ]
  },
  {
   "cell_type": "code",
   "execution_count": 9,
   "metadata": {},
   "outputs": [
    {
     "name": "stdout",
     "output_type": "stream",
     "text": [
      "Tokenized:\n",
      "2         mathematical modeller / simulation analyst / o...\n",
      "100002    a successful and high achieving specialist sch...\n",
      "200002    web designer html , css , javascript , photosh...\n",
      "Name: FullDescription, dtype: object\n"
     ]
    }
   ],
   "source": [
    "print(\"Tokenized:\")\n",
    "print(data[\"FullDescription\"][2::100000])\n",
    "assert data[\"FullDescription\"][2][:50] == 'mathematical modeller / simulation analyst / opera'\n",
    "assert data[\"Title\"][54321] == 'international digital account manager ( german )'"
   ]
  },
  {
   "cell_type": "markdown",
   "metadata": {},
   "source": [
    "Not all words are equally useful. Some of them are typos or rare words that are only present a few times. \n",
    "\n",
    "Let's count how many times is each word present in the data so that we can build a \"white list\" of known words."
   ]
  },
  {
   "cell_type": "code",
   "execution_count": 10,
   "metadata": {},
   "outputs": [],
   "source": [
    "from collections import Counter\n",
    "\n",
    "tokens = [i.split() for i in data.Title] + [i.split() for i in data.FullDescription]\n"
   ]
  },
  {
   "cell_type": "code",
   "execution_count": 11,
   "metadata": {},
   "outputs": [],
   "source": [
    "import itertools\n",
    "token_counts = Counter(list(itertools.chain(*tokens)))"
   ]
  },
  {
   "cell_type": "code",
   "execution_count": 12,
   "metadata": {},
   "outputs": [
    {
     "name": "stdout",
     "output_type": "stream",
     "text": [
      "Total unique tokens : 202704\n",
      "('and', 2657388)\n",
      "('.', 2523216)\n",
      "(',', 2318606)\n",
      "('the', 2080994)\n",
      "('to', 2019884)\n",
      "...\n",
      "('stephanietraveltraderecruitmnt', 1)\n",
      "('ruabon', 1)\n",
      "('lowehays', 1)\n",
      "Correct!\n"
     ]
    }
   ],
   "source": [
    "print(\"Total unique tokens :\", len(token_counts))\n",
    "print('\\n'.join(map(str, token_counts.most_common(n=5))))\n",
    "print('...')\n",
    "print('\\n'.join(map(str, token_counts.most_common()[-3:])))\n",
    "\n",
    "assert token_counts.most_common(1)[0][1] in  range(2600000, 2700000)\n",
    "assert len(token_counts) in range(200000, 210000)\n",
    "print('Correct!')"
   ]
  },
  {
   "cell_type": "code",
   "execution_count": 13,
   "metadata": {},
   "outputs": [
    {
     "data": {
      "image/png": "[encoded data removed]",
      "text/plain": [
       "<Figure size 640x480 with 1 Axes>"
      ]
     },
     "metadata": {},
     "output_type": "display_data"
    }
   ],
   "source": [
    "# Let's see how many words are there for each count\n",
    "plt.hist(list(token_counts.values()), range=[0, 10**4], bins=50, log=True)\n",
    "plt.xlabel(\"Word counts\");"
   ]
  },
  {
   "cell_type": "markdown",
   "metadata": {},
   "source": [
    "__Task 1.1__ Get a list of all tokens that occur at least 10 times."
   ]
  },
  {
   "cell_type": "code",
   "execution_count": 14,
   "metadata": {},
   "outputs": [],
   "source": [
    "min_count = 10\n",
    "\n",
    "# tokens from token_counts keys that had at least min_count occurrences throughout the dataset\n",
    "tokens = [token for token, count in token_counts.items() if count >= min_count]\n",
    "\n",
    "# Add a special tokens for unknown and empty words\n",
    "UNK, PAD = \"UNK\", \"PAD\"\n",
    "tokens = [UNK, PAD] + tokens"
   ]
  },
  {
   "cell_type": "code",
   "execution_count": 15,
   "metadata": {},
   "outputs": [
    {
     "name": "stdout",
     "output_type": "stream",
     "text": [
      "Vocabulary size: 34158\n",
      "Correct!\n"
     ]
    }
   ],
   "source": [
    "print(\"Vocabulary size:\", len(tokens))\n",
    "assert type(tokens) == list\n",
    "assert len(tokens) in range(32000, 35000)\n",
    "assert 'me' in tokens\n",
    "assert UNK in tokens\n",
    "print(\"Correct!\")"
   ]
  },
  {
   "cell_type": "markdown",
   "metadata": {},
   "source": [
    "__Task 1.2__ Build an inverse token index: a dictionary from token(string) to it's index in `tokens` (int)"
   ]
  },
  {
   "cell_type": "code",
   "execution_count": 23,
   "metadata": {},
   "outputs": [],
   "source": [
    "token_to_id = {token: idx for idx, token in enumerate(tokens)}"
   ]
  },
  {
   "cell_type": "code",
   "execution_count": 24,
   "metadata": {},
   "outputs": [
    {
     "name": "stdout",
     "output_type": "stream",
     "text": [
      "Correct!\n"
     ]
    }
   ],
   "source": [
    "assert isinstance(token_to_id, dict)\n",
    "assert len(token_to_id) == len(tokens)\n",
    "for id, tok in enumerate(tokens):\n",
    "    assert tokens[token_to_id[tok]] == tok\n",
    "\n",
    "print(\"Correct!\")"
   ]
  },
  {
   "cell_type": "markdown",
   "metadata": {},
   "source": [
    "And finally, let's use the vocabulary you've built to map text lines into neural network-digestible matrices."
   ]
  },
  {
   "cell_type": "code",
   "execution_count": 25,
   "metadata": {},
   "outputs": [],
   "source": [
    "UNK_IX, PAD_IX = map(token_to_id.get, [UNK, PAD])\n",
    "\n",
    "def as_matrix(sequences, max_len=None):\n",
    "    \"\"\" Convert a list of tokens into a matrix with padding \"\"\"\n",
    "    if isinstance(sequences[0], str):\n",
    "        sequences = list(map(str.split, sequences))\n",
    "        \n",
    "    max_len = min(max(map(len, sequences)), max_len or float('inf'))\n",
    "    \n",
    "    matrix = np.full((len(sequences), max_len), np.int32(PAD_IX))\n",
    "    for i,seq in enumerate(sequences):\n",
    "        row_ix = [token_to_id.get(word, UNK_IX) for word in seq[:max_len]]\n",
    "        matrix[i, :len(row_ix)] = row_ix\n",
    "    \n",
    "    return matrix"
   ]
  },
  {
   "cell_type": "code",
   "execution_count": 26,
   "metadata": {},
   "outputs": [
    {
     "name": "stdout",
     "output_type": "stream",
     "text": [
      "Lines:\n",
      "engineering systems analyst\n",
      "hr assistant\n",
      "senior ec & i engineer\n",
      "\n",
      "Matrix:\n",
      "[[   2    3    4    1    1]\n",
      " [ 998  176    1    1    1]\n",
      " [  18 3472  242   59    6]]\n"
     ]
    }
   ],
   "source": [
    "print(\"Lines:\")\n",
    "print('\\n'.join(data[\"Title\"][::100000].values), end='\\n\\n')\n",
    "print(\"Matrix:\")\n",
    "print(as_matrix(data[\"Title\"][::100000]))"
   ]
  },
  {
   "cell_type": "markdown",
   "metadata": {},
   "source": [
    "Now let's  encode the categirical data we have.\n",
    "\n",
    "As usual, we shall use one-hot encoding for simplicity. Kudos if you implement more advanced encodings: tf-idf, pseudo-time-series, etc."
   ]
  },
  {
   "cell_type": "code",
   "execution_count": 27,
   "metadata": {},
   "outputs": [
    {
     "data": {
      "text/html": [
       "<style>#sk-container-id-1 {\n",
       "  /* Definition of color scheme common for light and dark mode */\n",
       "  --sklearn-color-text: #000;\n",
       "  --sklearn-color-text-muted: #666;\n",
       "  --sklearn-color-line: gray;\n",
       "  /* Definition of color scheme for unfitted estimators */\n",
       "  --sklearn-color-unfitted-level-0: #fff5e6;\n",
       "  --sklearn-color-unfitted-level-1: #f6e4d2;\n",
       "  --sklearn-color-unfitted-level-2: #ffe0b3;\n",
       "  --sklearn-color-unfitted-level-3: chocolate;\n",
       "  /* Definition of color scheme for fitted estimators */\n",
       "  --sklearn-color-fitted-level-0: #f0f8ff;\n",
       "  --sklearn-color-fitted-level-1: #d4ebff;\n",
       "  --sklearn-color-fitted-level-2: #b3dbfd;\n",
       "  --sklearn-color-fitted-level-3: cornflowerblue;\n",
       "\n",
       "  /* Specific color for light theme */\n",
       "  --sklearn-color-text-on-default-background: var(--sg-text-color, var(--theme-code-foreground, var(--jp-content-font-color1, black)));\n",
       "  --sklearn-color-background: var(--sg-background-color, var(--theme-background, var(--jp-layout-color0, white)));\n",
       "  --sklearn-color-border-box: var(--sg-text-color, var(--theme-code-foreground, var(--jp-content-font-color1, black)));\n",
       "  --sklearn-color-icon: #696969;\n",
       "\n",
       "  @media (prefers-color-scheme: dark) {\n",
       "    /* Redefinition of color scheme for dark theme */\n",
       "    --sklearn-color-text-on-default-background: var(--sg-text-color, var(--theme-code-foreground, var(--jp-content-font-color1, white)));\n",
       "    --sklearn-color-background: var(--sg-background-color, var(--theme-background, var(--jp-layout-color0, #111)));\n",
       "    --sklearn-color-border-box: var(--sg-text-color, var(--theme-code-foreground, var(--jp-content-font-color1, white)));\n",
       "    --sklearn-color-icon: #878787;\n",
       "  }\n",
       "}\n",
       "\n",
       "#sk-container-id-1 {\n",
       "  color: var(--sklearn-color-text);\n",
       "}\n",
       "\n",
       "#sk-container-id-1 pre {\n",
       "  padding: 0;\n",
       "}\n",
       "\n",
       "#sk-container-id-1 input.sk-hidden--visually {\n",
       "  border: 0;\n",
       "  clip: rect(1px 1px 1px 1px);\n",
       "  clip: rect(1px, 1px, 1px, 1px);\n",
       "  height: 1px;\n",
       "  margin: -1px;\n",
       "  overflow: hidden;\n",
       "  padding: 0;\n",
       "  position: absolute;\n",
       "  width: 1px;\n",
       "}\n",
       "\n",
       "#sk-container-id-1 div.sk-dashed-wrapped {\n",
       "  border: 1px dashed var(--sklearn-color-line);\n",
       "  margin: 0 0.4em 0.5em 0.4em;\n",
       "  box-sizing: border-box;\n",
       "  padding-bottom: 0.4em;\n",
       "  background-color: var(--sklearn-color-background);\n",
       "}\n",
       "\n",
       "#sk-container-id-1 div.sk-container {\n",
       "  /* jupyter's `normalize.less` sets `[hidden] { display: none; }`\n",
       "     but bootstrap.min.css set `[hidden] { display: none !important; }`\n",
       "     so we also need the `!important` here to be able to override the\n",
       "     default hidden behavior on the sphinx rendered scikit-learn.org.\n",
       "     See: https://github.com/scikit-learn/scikit-learn/issues/21755 */\n",
       "  display: inline-block !important;\n",
       "  position: relative;\n",
       "}\n",
       "\n",
       "#sk-container-id-1 div.sk-text-repr-fallback {\n",
       "  display: none;\n",
       "}\n",
       "\n",
       "div.sk-parallel-item,\n",
       "div.sk-serial,\n",
       "div.sk-item {\n",
       "  /* draw centered vertical line to link estimators */\n",
       "  background-image: linear-gradient(var(--sklearn-color-text-on-default-background), var(--sklearn-color-text-on-default-background));\n",
       "  background-size: 2px 100%;\n",
       "  background-repeat: no-repeat;\n",
       "  background-position: center center;\n",
       "}\n",
       "\n",
       "/* Parallel-specific style estimator block */\n",
       "\n",
       "#sk-container-id-1 div.sk-parallel-item::after {\n",
       "  content: \"\";\n",
       "  width: 100%;\n",
       "  border-bottom: 2px solid var(--sklearn-color-text-on-default-background);\n",
       "  flex-grow: 1;\n",
       "}\n",
       "\n",
       "#sk-container-id-1 div.sk-parallel {\n",
       "  display: flex;\n",
       "  align-items: stretch;\n",
       "  justify-content: center;\n",
       "  background-color: var(--sklearn-color-background);\n",
       "  position: relative;\n",
       "}\n",
       "\n",
       "#sk-container-id-1 div.sk-parallel-item {\n",
       "  display: flex;\n",
       "  flex-direction: column;\n",
       "}\n",
       "\n",
       "#sk-container-id-1 div.sk-parallel-item:first-child::after {\n",
       "  align-self: flex-end;\n",
       "  width: 50%;\n",
       "}\n",
       "\n",
       "#sk-container-id-1 div.sk-parallel-item:last-child::after {\n",
       "  align-self: flex-start;\n",
       "  width: 50%;\n",
       "}\n",
       "\n",
       "#sk-container-id-1 div.sk-parallel-item:only-child::after {\n",
       "  width: 0;\n",
       "}\n",
       "\n",
       "/* Serial-specific style estimator block */\n",
       "\n",
       "#sk-container-id-1 div.sk-serial {\n",
       "  display: flex;\n",
       "  flex-direction: column;\n",
       "  align-items: center;\n",
       "  background-color: var(--sklearn-color-background);\n",
       "  padding-right: 1em;\n",
       "  padding-left: 1em;\n",
       "}\n",
       "\n",
       "\n",
       "/* Toggleable style: style used for estimator/Pipeline/ColumnTransformer box that is\n",
       "clickable and can be expanded/collapsed.\n",
       "- Pipeline and ColumnTransformer use this feature and define the default style\n",
       "- Estimators will overwrite some part of the style using the `sk-estimator` class\n",
       "*/\n",
       "\n",
       "/* Pipeline and ColumnTransformer style (default) */\n",
       "\n",
       "#sk-container-id-1 div.sk-toggleable {\n",
       "  /* Default theme specific background. It is overwritten whether we have a\n",
       "  specific estimator or a Pipeline/ColumnTransformer */\n",
       "  background-color: var(--sklearn-color-background);\n",
       "}\n",
       "\n",
       "/* Toggleable label */\n",
       "#sk-container-id-1 label.sk-toggleable__label {\n",
       "  cursor: pointer;\n",
       "  display: flex;\n",
       "  width: 100%;\n",
       "  margin-bottom: 0;\n",
       "  padding: 0.5em;\n",
       "  box-sizing: border-box;\n",
       "  text-align: center;\n",
       "  align-items: start;\n",
       "  justify-content: space-between;\n",
       "  gap: 0.5em;\n",
       "}\n",
       "\n",
       "#sk-container-id-1 label.sk-toggleable__label .caption {\n",
       "  font-size: 0.6rem;\n",
       "  font-weight: lighter;\n",
       "  color: var(--sklearn-color-text-muted);\n",
       "}\n",
       "\n",
       "#sk-container-id-1 label.sk-toggleable__label-arrow:before {\n",
       "  /* Arrow on the left of the label */\n",
       "  content: \"▸\";\n",
       "  float: left;\n",
       "  margin-right: 0.25em;\n",
       "  color: var(--sklearn-color-icon);\n",
       "}\n",
       "\n",
       "#sk-container-id-1 label.sk-toggleable__label-arrow:hover:before {\n",
       "  color: var(--sklearn-color-text);\n",
       "}\n",
       "\n",
       "/* Toggleable content - dropdown */\n",
       "\n",
       "#sk-container-id-1 div.sk-toggleable__content {\n",
       "  max-height: 0;\n",
       "  max-width: 0;\n",
       "  overflow: hidden;\n",
       "  text-align: left;\n",
       "  /* unfitted */\n",
       "  background-color: var(--sklearn-color-unfitted-level-0);\n",
       "}\n",
       "\n",
       "#sk-container-id-1 div.sk-toggleable__content.fitted {\n",
       "  /* fitted */\n",
       "  background-color: var(--sklearn-color-fitted-level-0);\n",
       "}\n",
       "\n",
       "#sk-container-id-1 div.sk-toggleable__content pre {\n",
       "  margin: 0.2em;\n",
       "  border-radius: 0.25em;\n",
       "  color: var(--sklearn-color-text);\n",
       "  /* unfitted */\n",
       "  background-color: var(--sklearn-color-unfitted-level-0);\n",
       "}\n",
       "\n",
       "#sk-container-id-1 div.sk-toggleable__content.fitted pre {\n",
       "  /* unfitted */\n",
       "  background-color: var(--sklearn-color-fitted-level-0);\n",
       "}\n",
       "\n",
       "#sk-container-id-1 input.sk-toggleable__control:checked~div.sk-toggleable__content {\n",
       "  /* Expand drop-down */\n",
       "  max-height: 200px;\n",
       "  max-width: 100%;\n",
       "  overflow: auto;\n",
       "}\n",
       "\n",
       "#sk-container-id-1 input.sk-toggleable__control:checked~label.sk-toggleable__label-arrow:before {\n",
       "  content: \"▾\";\n",
       "}\n",
       "\n",
       "/* Pipeline/ColumnTransformer-specific style */\n",
       "\n",
       "#sk-container-id-1 div.sk-label input.sk-toggleable__control:checked~label.sk-toggleable__label {\n",
       "  color: var(--sklearn-color-text);\n",
       "  background-color: var(--sklearn-color-unfitted-level-2);\n",
       "}\n",
       "\n",
       "#sk-container-id-1 div.sk-label.fitted input.sk-toggleable__control:checked~label.sk-toggleable__label {\n",
       "  background-color: var(--sklearn-color-fitted-level-2);\n",
       "}\n",
       "\n",
       "/* Estimator-specific style */\n",
       "\n",
       "/* Colorize estimator box */\n",
       "#sk-container-id-1 div.sk-estimator input.sk-toggleable__control:checked~label.sk-toggleable__label {\n",
       "  /* unfitted */\n",
       "  background-color: var(--sklearn-color-unfitted-level-2);\n",
       "}\n",
       "\n",
       "#sk-container-id-1 div.sk-estimator.fitted input.sk-toggleable__control:checked~label.sk-toggleable__label {\n",
       "  /* fitted */\n",
       "  background-color: var(--sklearn-color-fitted-level-2);\n",
       "}\n",
       "\n",
       "#sk-container-id-1 div.sk-label label.sk-toggleable__label,\n",
       "#sk-container-id-1 div.sk-label label {\n",
       "  /* The background is the default theme color */\n",
       "  color: var(--sklearn-color-text-on-default-background);\n",
       "}\n",
       "\n",
       "/* On hover, darken the color of the background */\n",
       "#sk-container-id-1 div.sk-label:hover label.sk-toggleable__label {\n",
       "  color: var(--sklearn-color-text);\n",
       "  background-color: var(--sklearn-color-unfitted-level-2);\n",
       "}\n",
       "\n",
       "/* Label box, darken color on hover, fitted */\n",
       "#sk-container-id-1 div.sk-label.fitted:hover label.sk-toggleable__label.fitted {\n",
       "  color: var(--sklearn-color-text);\n",
       "  background-color: var(--sklearn-color-fitted-level-2);\n",
       "}\n",
       "\n",
       "/* Estimator label */\n",
       "\n",
       "#sk-container-id-1 div.sk-label label {\n",
       "  font-family: monospace;\n",
       "  font-weight: bold;\n",
       "  display: inline-block;\n",
       "  line-height: 1.2em;\n",
       "}\n",
       "\n",
       "#sk-container-id-1 div.sk-label-container {\n",
       "  text-align: center;\n",
       "}\n",
       "\n",
       "/* Estimator-specific */\n",
       "#sk-container-id-1 div.sk-estimator {\n",
       "  font-family: monospace;\n",
       "  border: 1px dotted var(--sklearn-color-border-box);\n",
       "  border-radius: 0.25em;\n",
       "  box-sizing: border-box;\n",
       "  margin-bottom: 0.5em;\n",
       "  /* unfitted */\n",
       "  background-color: var(--sklearn-color-unfitted-level-0);\n",
       "}\n",
       "\n",
       "#sk-container-id-1 div.sk-estimator.fitted {\n",
       "  /* fitted */\n",
       "  background-color: var(--sklearn-color-fitted-level-0);\n",
       "}\n",
       "\n",
       "/* on hover */\n",
       "#sk-container-id-1 div.sk-estimator:hover {\n",
       "  /* unfitted */\n",
       "  background-color: var(--sklearn-color-unfitted-level-2);\n",
       "}\n",
       "\n",
       "#sk-container-id-1 div.sk-estimator.fitted:hover {\n",
       "  /* fitted */\n",
       "  background-color: var(--sklearn-color-fitted-level-2);\n",
       "}\n",
       "\n",
       "/* Specification for estimator info (e.g. \"i\" and \"?\") */\n",
       "\n",
       "/* Common style for \"i\" and \"?\" */\n",
       "\n",
       ".sk-estimator-doc-link,\n",
       "a:link.sk-estimator-doc-link,\n",
       "a:visited.sk-estimator-doc-link {\n",
       "  float: right;\n",
       "  font-size: smaller;\n",
       "  line-height: 1em;\n",
       "  font-family: monospace;\n",
       "  background-color: var(--sklearn-color-background);\n",
       "  border-radius: 1em;\n",
       "  height: 1em;\n",
       "  width: 1em;\n",
       "  text-decoration: none !important;\n",
       "  margin-left: 0.5em;\n",
       "  text-align: center;\n",
       "  /* unfitted */\n",
       "  border: var(--sklearn-color-unfitted-level-1) 1pt solid;\n",
       "  color: var(--sklearn-color-unfitted-level-1);\n",
       "}\n",
       "\n",
       ".sk-estimator-doc-link.fitted,\n",
       "a:link.sk-estimator-doc-link.fitted,\n",
       "a:visited.sk-estimator-doc-link.fitted {\n",
       "  /* fitted */\n",
       "  border: var(--sklearn-color-fitted-level-1) 1pt solid;\n",
       "  color: var(--sklearn-color-fitted-level-1);\n",
       "}\n",
       "\n",
       "/* On hover */\n",
       "div.sk-estimator:hover .sk-estimator-doc-link:hover,\n",
       ".sk-estimator-doc-link:hover,\n",
       "div.sk-label-container:hover .sk-estimator-doc-link:hover,\n",
       ".sk-estimator-doc-link:hover {\n",
       "  /* unfitted */\n",
       "  background-color: var(--sklearn-color-unfitted-level-3);\n",
       "  color: var(--sklearn-color-background);\n",
       "  text-decoration: none;\n",
       "}\n",
       "\n",
       "div.sk-estimator.fitted:hover .sk-estimator-doc-link.fitted:hover,\n",
       ".sk-estimator-doc-link.fitted:hover,\n",
       "div.sk-label-container:hover .sk-estimator-doc-link.fitted:hover,\n",
       ".sk-estimator-doc-link.fitted:hover {\n",
       "  /* fitted */\n",
       "  background-color: var(--sklearn-color-fitted-level-3);\n",
       "  color: var(--sklearn-color-background);\n",
       "  text-decoration: none;\n",
       "}\n",
       "\n",
       "/* Span, style for the box shown on hovering the info icon */\n",
       ".sk-estimator-doc-link span {\n",
       "  display: none;\n",
       "  z-index: 9999;\n",
       "  position: relative;\n",
       "  font-weight: normal;\n",
       "  right: .2ex;\n",
       "  padding: .5ex;\n",
       "  margin: .5ex;\n",
       "  width: min-content;\n",
       "  min-width: 20ex;\n",
       "  max-width: 50ex;\n",
       "  color: var(--sklearn-color-text);\n",
       "  box-shadow: 2pt 2pt 4pt #999;\n",
       "  /* unfitted */\n",
       "  background: var(--sklearn-color-unfitted-level-0);\n",
       "  border: .5pt solid var(--sklearn-color-unfitted-level-3);\n",
       "}\n",
       "\n",
       ".sk-estimator-doc-link.fitted span {\n",
       "  /* fitted */\n",
       "  background: var(--sklearn-color-fitted-level-0);\n",
       "  border: var(--sklearn-color-fitted-level-3);\n",
       "}\n",
       "\n",
       ".sk-estimator-doc-link:hover span {\n",
       "  display: block;\n",
       "}\n",
       "\n",
       "/* \"?\"-specific style due to the `<a>` HTML tag */\n",
       "\n",
       "#sk-container-id-1 a.estimator_doc_link {\n",
       "  float: right;\n",
       "  font-size: 1rem;\n",
       "  line-height: 1em;\n",
       "  font-family: monospace;\n",
       "  background-color: var(--sklearn-color-background);\n",
       "  border-radius: 1rem;\n",
       "  height: 1rem;\n",
       "  width: 1rem;\n",
       "  text-decoration: none;\n",
       "  /* unfitted */\n",
       "  color: var(--sklearn-color-unfitted-level-1);\n",
       "  border: var(--sklearn-color-unfitted-level-1) 1pt solid;\n",
       "}\n",
       "\n",
       "#sk-container-id-1 a.estimator_doc_link.fitted {\n",
       "  /* fitted */\n",
       "  border: var(--sklearn-color-fitted-level-1) 1pt solid;\n",
       "  color: var(--sklearn-color-fitted-level-1);\n",
       "}\n",
       "\n",
       "/* On hover */\n",
       "#sk-container-id-1 a.estimator_doc_link:hover {\n",
       "  /* unfitted */\n",
       "  background-color: var(--sklearn-color-unfitted-level-3);\n",
       "  color: var(--sklearn-color-background);\n",
       "  text-decoration: none;\n",
       "}\n",
       "\n",
       "#sk-container-id-1 a.estimator_doc_link.fitted:hover {\n",
       "  /* fitted */\n",
       "  background-color: var(--sklearn-color-fitted-level-3);\n",
       "}\n",
       "</style><div id=\"sk-container-id-1\" class=\"sk-top-container\"><div class=\"sk-text-repr-fallback\"><pre>DictVectorizer(dtype=&lt;class &#x27;numpy.float32&#x27;&gt;, sparse=False)</pre><b>In a Jupyter environment, please rerun this cell to show the HTML representation or trust the notebook. <br />On GitHub, the HTML representation is unable to render, please try loading this page with nbviewer.org.</b></div><div class=\"sk-container\" hidden><div class=\"sk-item\"><div class=\"sk-estimator fitted sk-toggleable\"><input class=\"sk-toggleable__control sk-hidden--visually\" id=\"sk-estimator-id-1\" type=\"checkbox\" checked><label for=\"sk-estimator-id-1\" class=\"sk-toggleable__label fitted sk-toggleable__label-arrow\"><div><div>DictVectorizer</div></div><div><a class=\"sk-estimator-doc-link fitted\" rel=\"noreferrer\" target=\"_blank\" href=\"https://scikit-learn.org/1.6/modules/generated/sklearn.feature_extraction.DictVectorizer.html\">?<span>Documentation for DictVectorizer</span></a><span class=\"sk-estimator-doc-link fitted\">i<span>Fitted</span></span></div></label><div class=\"sk-toggleable__content fitted\"><pre>DictVectorizer(dtype=&lt;class &#x27;numpy.float32&#x27;&gt;, sparse=False)</pre></div> </div></div></div></div>"
      ],
      "text/plain": [
       "DictVectorizer(dtype=<class 'numpy.float32'>, sparse=False)"
      ]
     },
     "execution_count": 27,
     "metadata": {},
     "output_type": "execute_result"
    }
   ],
   "source": [
    "from sklearn.feature_extraction import DictVectorizer\n",
    "\n",
    "# we only consider top-1k most frequent companies to minimize memory usage\n",
    "top_companies, top_counts = zip(*Counter(data['Company']).most_common(1000))\n",
    "recognized_companies = set(top_companies)\n",
    "data[\"Company\"] = data[\"Company\"].apply(lambda comp: comp if comp in recognized_companies else \"Other\")\n",
    "\n",
    "categorical_vectorizer = DictVectorizer(dtype=np.float32, sparse=False)\n",
    "categorical_vectorizer.fit(data[categorical_columns].apply(dict, axis=1))"
   ]
  },
  {
   "cell_type": "markdown",
   "metadata": {},
   "source": [
    "### The deep learning part\n",
    "\n",
    "Once we've learned to tokenize the data, let's design a machine learning experiment.\n",
    "\n",
    "As before, we won't focus too much on validation, opting for a simple train-test split.\n",
    "\n",
    "__To be completely rigorous,__ we've comitted a small crime here: we used the whole data for tokenization and vocabulary building. A more strict way would be to do that part on training set only. You may want to do that and measure the magnitude of changes."
   ]
  },
  {
   "cell_type": "code",
   "execution_count": 28,
   "metadata": {},
   "outputs": [
    {
     "name": "stdout",
     "output_type": "stream",
     "text": [
      "Train size =  195814\n",
      "Validation size =  48954\n"
     ]
    }
   ],
   "source": [
    "from sklearn.model_selection import train_test_split\n",
    "\n",
    "data_train, data_val = train_test_split(data, test_size=0.2, random_state=42)\n",
    "data_train.index = range(len(data_train))\n",
    "data_val.index = range(len(data_val))\n",
    "\n",
    "print(\"Train size = \", len(data_train))\n",
    "print(\"Validation size = \", len(data_val))"
   ]
  },
  {
   "cell_type": "code",
   "execution_count": 29,
   "metadata": {},
   "outputs": [],
   "source": [
    "import torch\n",
    "import torch.nn as nn\n",
    "import torch.nn.functional as F\n",
    "\n",
    "\n",
    "device = 'cuda' if torch.cuda.is_available() else 'cpu'\n",
    "\n",
    "\n",
    "def to_tensors(batch, device):\n",
    "    batch_tensors = dict()\n",
    "    for key, arr in batch.items():\n",
    "        if key in [\"FullDescription\", \"Title\"]:\n",
    "            batch_tensors[key] = torch.tensor(arr, device=device, dtype=torch.int64)\n",
    "        else:\n",
    "            batch_tensors[key] = torch.tensor(arr, device=device)\n",
    "    return batch_tensors\n",
    "\n",
    "\n",
    "def make_batch(data, max_len=None, word_dropout=0, device=device):\n",
    "    \"\"\"\n",
    "    Creates a keras-friendly dict from the batch data.\n",
    "    :param word_dropout: replaces token index with UNK_IX with this probability\n",
    "    :returns: a dict with {'title' : int64[batch, title_max_len]\n",
    "    \"\"\"\n",
    "    batch = {}\n",
    "    batch[\"Title\"] = as_matrix(data[\"Title\"].values, max_len)\n",
    "    batch[\"FullDescription\"] = as_matrix(data[\"FullDescription\"].values, max_len)\n",
    "    batch['Categorical'] = categorical_vectorizer.transform(data[categorical_columns].apply(dict, axis=1))\n",
    "    \n",
    "    if word_dropout != 0:\n",
    "        batch[\"FullDescription\"] = apply_word_dropout(batch[\"FullDescription\"], 1. - word_dropout)\n",
    "    \n",
    "    if TARGET_COLUMN in data.columns:\n",
    "        batch[TARGET_COLUMN] = data[TARGET_COLUMN].values\n",
    "    \n",
    "    return to_tensors(batch, device)\n",
    "\n",
    "def apply_word_dropout(matrix, keep_prop, replace_with=UNK_IX, pad_ix=PAD_IX,):\n",
    "    dropout_mask = np.random.choice(2, np.shape(matrix), p=[keep_prop, 1 - keep_prop])\n",
    "    dropout_mask &= matrix != pad_ix\n",
    "    return np.choose(dropout_mask, [matrix, np.full_like(matrix, replace_with)])"
   ]
  },
  {
   "cell_type": "code",
   "execution_count": 30,
   "metadata": {
    "scrolled": true
   },
   "outputs": [
    {
     "data": {
      "text/plain": [
       "{'Title': tensor([[   18,   287,   359,     1,     1,     1,     1],\n",
       "         [ 2863,    11,    12,    13,    55,    37, 12109],\n",
       "         [ 2833,   618,   858,    63,  7104,  7105,    64]]),\n",
       " 'FullDescription': tensor([[   18,   287,   359,  1408,   561,    18,   287,   359,  1464,  1408],\n",
       "         [ 2863,    11,    12,    13,    55,    37, 12109,  1767,  1166,    74],\n",
       "         [  142,  1617,  8830,  1314,  1464,   559,   560,   561,   618,   858]]),\n",
       " 'Categorical': tensor([[0., 0., 0.,  ..., 0., 0., 0.],\n",
       "         [0., 0., 0.,  ..., 0., 0., 0.],\n",
       "         [0., 0., 0.,  ..., 0., 0., 0.]]),\n",
       " 'Log1pSalary': tensor([ 9.7115, 10.4631, 10.7144])}"
      ]
     },
     "execution_count": 30,
     "metadata": {},
     "output_type": "execute_result"
    }
   ],
   "source": [
    "make_batch(data_train[:3], max_len=10)"
   ]
  },
  {
   "cell_type": "markdown",
   "metadata": {},
   "source": [
    "#### Architecture\n",
    "\n",
    "Our basic model consists of three branches:\n",
    "* Title encoder\n",
    "* Description encoder\n",
    "* Categorical features encoder\n",
    "\n",
    "We will then feed all 3 branches into one common network that predicts salary.\n",
    "\n",
    "![scheme](https://github.com/yandexdataschool/nlp_course/raw/master/resources/w2_conv_arch.png)"
   ]
  },
  {
   "cell_type": "code",
   "execution_count": 34,
   "metadata": {},
   "outputs": [],
   "source": [
    "import torch\n",
    "import torch.nn as nn\n",
    "import torch.nn.functional as F\n",
    "\n",
    "class SalaryPredictor(nn.Module):\n",
    "    def __init__(self, n_tokens=len(tokens), n_cat_features=len(categorical_vectorizer.vocabulary_), hid_size=64):\n",
    "        super().__init__()\n",
    "        \n",
    "        # Title Encoder\n",
    "        self.title_embedding = nn.Embedding(num_embeddings=n_tokens, embedding_dim=hid_size)\n",
    "        self.title_fc = nn.Linear(hid_size, hid_size)  # Fully connected layer for title\n",
    "        \n",
    "        # Description Encoder\n",
    "        self.desc_embedding = nn.Embedding(num_embeddings=n_tokens, embedding_dim=hid_size)\n",
    "        self.desc_fc = nn.Linear(hid_size, hid_size)  # Fully connected layer for description\n",
    "        \n",
    "        # Categorical Features Encoder\n",
    "        self.cat_fc = nn.Linear(n_cat_features, hid_size)  # Fully connected layer for categorical features\n",
    "        \n",
    "        # Common Network\n",
    "        self.common_fc1 = nn.Linear(hid_size * 3, hid_size * 2)  # Combine all branches\n",
    "        self.common_fc2 = nn.Linear(hid_size * 2, 1)  # Output layer for predicting salary\n",
    "\n",
    "    def forward(self, batch):\n",
    "        # Unpack the batch\n",
    "        title, description, categorical_features = batch['Title'], batch['FullDescription'], batch['Categorical']\n",
    "        \n",
    "        # Title Encoder\n",
    "        title_emb = self.title_embedding(title).mean(dim=1)  # Mean pooling over token embeddings\n",
    "        title_out = F.relu(self.title_fc(title_emb))  # Pass through fully connected layer\n",
    "        \n",
    "        # Description Encoder\n",
    "        desc_emb = self.desc_embedding(description).mean(dim=1)  # Mean pooling over token embeddings\n",
    "        desc_out = F.relu(self.desc_fc(desc_emb))  # Pass through fully connected layer\n",
    "        \n",
    "        # Categorical Features Encoder\n",
    "        cat_out = F.relu(self.cat_fc(categorical_features))  # Pass through fully connected layer\n",
    "        \n",
    "        # Concatenate outputs from all branches\n",
    "        combined = torch.cat([title_out, desc_out, cat_out], dim=1)\n",
    "        \n",
    "        # Common Network\n",
    "        x = F.relu(self.common_fc1(combined))  # First fully connected layer\n",
    "        output = self.common_fc2(x).squeeze(-1)  # Output layer (squeeze to remove last dimension)\n",
    "        \n",
    "        return output"
   ]
  },
  {
   "cell_type": "code",
   "execution_count": 35,
   "metadata": {},
   "outputs": [],
   "source": [
    "model = SalaryPredictor()"
   ]
  },
  {
   "cell_type": "code",
   "execution_count": 36,
   "metadata": {},
   "outputs": [],
   "source": [
    "model = SalaryPredictor().to(device)\n",
    "batch = make_batch(data_train[:100], device=device)\n",
    "criterion = nn.MSELoss()\n",
    "\n",
    "dummy_pred = model(batch)\n",
    "dummy_loss = criterion(dummy_pred, batch[TARGET_COLUMN])\n",
    "assert dummy_pred.shape == torch.Size([100])\n",
    "assert len(torch.unique(dummy_pred)) > 20, \"model returns suspiciously few unique outputs. Check your initialization\"\n",
    "assert dummy_loss.ndim == 0 and 0. <= dummy_loss <= 250., \"make sure you minimize MSE\""
   ]
  },
  {
   "cell_type": "markdown",
   "metadata": {},
   "source": [
    "#### Training and evaluation\n",
    "\n",
    "As usual, we gonna feed our monster with random minibatches of data. \n",
    "\n",
    "As we train, we want to monitor not only loss function, which is computed in log-space, but also the actual error measured in dollars."
   ]
  },
  {
   "cell_type": "code",
   "execution_count": 37,
   "metadata": {},
   "outputs": [],
   "source": [
    "def iterate_minibatches(data, batch_size=256, shuffle=True, cycle=False, device=device, **kwargs):\n",
    "    \"\"\" iterates minibatches of data in random order \"\"\"\n",
    "    while True:\n",
    "        indices = np.arange(len(data))\n",
    "        if shuffle:\n",
    "            indices = np.random.permutation(indices)\n",
    "\n",
    "        for start in range(0, len(indices), batch_size):\n",
    "            batch = make_batch(data.iloc[indices[start : start + batch_size]], device=device, **kwargs)\n",
    "            yield batch\n",
    "        \n",
    "        if not cycle: break"
   ]
  },
  {
   "cell_type": "markdown",
   "metadata": {},
   "source": [
    "### Model training\n",
    "\n",
    "We can now fit our model the usual minibatch way. The interesting part is that we train on an infinite stream of minibatches, produced by `iterate_minibatches` function."
   ]
  },
  {
   "cell_type": "code",
   "execution_count": 38,
   "metadata": {},
   "outputs": [
    {
     "name": "stderr",
     "output_type": "stream",
     "text": [
      "/Users/vadik/Desktop/NLP_FPL/.venv/lib/python3.11/site-packages/tqdm/auto.py:21: TqdmWarning: IProgress not found. Please update jupyter and ipywidgets. See https://ipywidgets.readthedocs.io/en/stable/user_install.html\n",
      "  from .autonotebook import tqdm as notebook_tqdm\n"
     ]
    }
   ],
   "source": [
    "from tqdm.auto import tqdm\n",
    "\n",
    "BATCH_SIZE = 16\n",
    "EPOCHS = 5"
   ]
  },
  {
   "cell_type": "code",
   "execution_count": 39,
   "metadata": {},
   "outputs": [],
   "source": [
    "def print_metrics(model, data, batch_size=BATCH_SIZE, name=\"\", device=torch.device('cpu'), **kw):\n",
    "    squared_error = abs_error = num_samples = 0.0\n",
    "    model.eval()\n",
    "    with torch.no_grad():\n",
    "        for batch in iterate_minibatches(data, batch_size=batch_size, shuffle=False, device=device, **kw):\n",
    "            batch_pred = model(batch)\n",
    "            squared_error += torch.sum(torch.square(batch_pred - batch[TARGET_COLUMN]))\n",
    "            abs_error += torch.sum(torch.abs(batch_pred - batch[TARGET_COLUMN]))\n",
    "            num_samples += len(batch_pred)\n",
    "    mse = squared_error.detach().cpu().numpy() / num_samples\n",
    "    mae = abs_error.detach().cpu().numpy() / num_samples\n",
    "    print(\"%s results:\" % (name or \"\"))\n",
    "    print(\"Mean square error: %.5f\" % mse)\n",
    "    print(\"Mean absolute error: %.5f\" % mae)\n",
    "    return mse, mae\n"
   ]
  },
  {
   "cell_type": "code",
   "execution_count": 40,
   "metadata": {},
   "outputs": [
    {
     "name": "stdout",
     "output_type": "stream",
     "text": [
      "epoch: 0\n"
     ]
    },
    {
     "name": "stderr",
     "output_type": "stream",
     "text": [
      "12239it [01:58, 103.25it/s]                           \n"
     ]
    },
    {
     "name": "stdout",
     "output_type": "stream",
     "text": [
      " results:\n",
      "Mean square error: 0.14751\n",
      "Mean absolute error: 0.29678\n",
      "epoch: 1\n"
     ]
    },
    {
     "name": "stderr",
     "output_type": "stream",
     "text": [
      "12239it [02:00, 101.39it/s]                           \n"
     ]
    },
    {
     "name": "stdout",
     "output_type": "stream",
     "text": [
      " results:\n",
      "Mean square error: 0.13704\n",
      "Mean absolute error: 0.28511\n",
      "epoch: 2\n"
     ]
    },
    {
     "name": "stderr",
     "output_type": "stream",
     "text": [
      "12239it [02:06, 96.80it/s]                            \n"
     ]
    },
    {
     "name": "stdout",
     "output_type": "stream",
     "text": [
      " results:\n",
      "Mean square error: 0.12809\n",
      "Mean absolute error: 0.27626\n",
      "epoch: 3\n"
     ]
    },
    {
     "name": "stderr",
     "output_type": "stream",
     "text": [
      "12239it [01:53, 107.98it/s]                           \n"
     ]
    },
    {
     "name": "stdout",
     "output_type": "stream",
     "text": [
      " results:\n",
      "Mean square error: 0.12438\n",
      "Mean absolute error: 0.27158\n",
      "epoch: 4\n"
     ]
    },
    {
     "name": "stderr",
     "output_type": "stream",
     "text": [
      "12239it [01:50, 110.86it/s]                           \n"
     ]
    },
    {
     "name": "stdout",
     "output_type": "stream",
     "text": [
      " results:\n",
      "Mean square error: 0.12232\n",
      "Mean absolute error: 0.27037\n"
     ]
    }
   ],
   "source": [
    "model = SalaryPredictor().to(device)\n",
    "criterion = nn.MSELoss(reduction='sum')\n",
    "optimizer = torch.optim.SGD(model.parameters(), lr=1e-4)\n",
    "\n",
    "for epoch in range(EPOCHS):\n",
    "    print(f\"epoch: {epoch}\")\n",
    "    model.train()\n",
    "    for i, batch in tqdm(enumerate(\n",
    "            iterate_minibatches(data_train, batch_size=BATCH_SIZE, device=device)),\n",
    "            total=len(data_train) // BATCH_SIZE\n",
    "        ):\n",
    "        pred = model(batch)\n",
    "        loss = criterion(pred, batch[TARGET_COLUMN])\n",
    "        optimizer.zero_grad()\n",
    "        loss.backward()\n",
    "        optimizer.step()\n",
    "        \n",
    "    print_metrics(model, data_val, device=device)\n",
    "\n",
    "      "
   ]
  },
  {
   "cell_type": "markdown",
   "metadata": {},
   "source": [
    "### Bonus part: explaining model predictions\n",
    "\n",
    "It's usually a good idea to understand how your model works before you let it make actual decisions. It's simple for linear models: just see which words learned positive or negative weights. However, its much harder for neural networks that learn complex nonlinear dependencies.\n",
    "\n",
    "There are, however, some ways to look inside the black box:\n",
    "* Seeing how model responds to input perturbations\n",
    "* Finding inputs that maximize/minimize activation of some chosen neurons (_read more [on distill.pub](https://distill.pub/2018/building-blocks/)_)\n",
    "* Building local linear approximations to your neural network: [article](https://arxiv.org/abs/1602.04938), [eli5 library](https://github.com/TeamHG-Memex/eli5/tree/master/eli5/formatters)\n",
    "\n",
    "Today we gonna try the first method just because it's the simplest one."
   ]
  },
  {
   "cell_type": "code",
   "execution_count": 41,
   "metadata": {},
   "outputs": [],
   "source": [
    "def explain(model, sample, col_name='Title'):\n",
    "    \"\"\" Computes the effect each word had on model predictions \"\"\"\n",
    "    sample = dict(sample)\n",
    "    sample_col_tokens = [tokens[token_to_id.get(tok, 0)] for tok in sample[col_name].split()]\n",
    "    data_drop_one_token = pd.DataFrame([sample] * (len(sample_col_tokens) + 1))\n",
    "\n",
    "    for drop_i in range(len(sample_col_tokens)):\n",
    "        data_drop_one_token.loc[drop_i, col_name] = ' '.join(UNK if i == drop_i else tok\n",
    "                                                   for i, tok in enumerate(sample_col_tokens)) \n",
    "\n",
    "    *predictions_drop_one_token, baseline_pred = model(make_batch(data_drop_one_token, device=device)).detach().cpu()\n",
    "    diffs = baseline_pred - torch.Tensor(predictions_drop_one_token)\n",
    "    return list(zip(sample_col_tokens, diffs))"
   ]
  },
  {
   "cell_type": "code",
   "execution_count": 42,
   "metadata": {},
   "outputs": [],
   "source": [
    "from IPython.display import HTML, display_html\n",
    "\n",
    "\n",
    "def draw_html(tokens_and_weights, cmap=plt.get_cmap(\"bwr\"), display=True,\n",
    "              token_template=\"\"\"<span style=\"background-color: {color_hex}\">{token}</span>\"\"\",\n",
    "              font_style=\"font-size:14px;\"\n",
    "             ):\n",
    "    \n",
    "    def get_color_hex(weight):\n",
    "        rgba = cmap(1. / (1 + np.exp(float(weight))), bytes=True)\n",
    "        return '#%02X%02X%02X' % rgba[:3]\n",
    "    \n",
    "    tokens_html = [\n",
    "        token_template.format(token=token, color_hex=get_color_hex(weight))\n",
    "        for token, weight in tokens_and_weights\n",
    "    ]\n",
    "    \n",
    "    \n",
    "    raw_html = \"\"\"<p style=\"{}\">{}</p>\"\"\".format(font_style, ' '.join(tokens_html))\n",
    "    if display:\n",
    "        display_html(HTML(raw_html))\n",
    "        \n",
    "    return raw_html\n",
    "    "
   ]
  },
  {
   "cell_type": "code",
   "execution_count": 43,
   "metadata": {},
   "outputs": [
    {
     "data": {
      "text/html": [
       "<p style=\"font-size:20px;\"><span style=\"background-color: #FFF0F0\">sales</span> <span style=\"background-color: #9090FF\">specialist</span> <span style=\"background-color: #8383FF\">iv</span> <span style=\"background-color: #8686FF\">access</span> <span style=\"background-color: #D0D0FF\">and</span> <span style=\"background-color: #DCDCFF\">infusion</span></p>"
      ]
     },
     "metadata": {},
     "output_type": "display_data"
    },
    {
     "data": {
      "text/html": [
       "<p style=\"font-size:14px;\"><span style=\"background-color: #FEFEFF\">sales</span> <span style=\"background-color: #FFF2F2\">representative</span> <span style=\"background-color: #FAFAFF\">medical</span> <span style=\"background-color: #FEFEFF\">sales</span> <span style=\"background-color: #FFF4F4\">iv</span> <span style=\"background-color: #FFF6F6\">access</span> <span style=\"background-color: #FFFAFA\">and</span> <span style=\"background-color: #FFEEEE\">infusion</span> <span style=\"background-color: #FEFEFF\">an</span> <span style=\"background-color: #FFFCFC\">opportunity</span> <span style=\"background-color: #FFF0F0\">to</span> <span style=\"background-color: #FFF0F0\">work</span> <span style=\"background-color: #FFF4F4\">for</span> <span style=\"background-color: #FFFAFA\">the</span> <span style=\"background-color: #FFF4F4\">industry</span> <span style=\"background-color: #FFF4F4\">leading</span> <span style=\"background-color: #FFF4F4\">manufacturer</span> <span style=\"background-color: #FEFEFF\">of</span> <span style=\"background-color: #FFF4F4\">iv</span> <span style=\"background-color: #FFF6F6\">access</span> <span style=\"background-color: #FFFAFA\">and</span> <span style=\"background-color: #FFEEEE\">infusion</span> <span style=\"background-color: #FFF8F8\">solutions</span> <span style=\"background-color: #FFF4F4\">.</span> <span style=\"background-color: #FFFEFE\">formally</span> <span style=\"background-color: #FFF0F0\">recognised</span> <span style=\"background-color: #FFF0F0\">as</span> <span style=\"background-color: #FFFAFA\">the</span> <span style=\"background-color: #FFEEEE\">number</span> <span style=\"background-color: #FFF4F4\">****</span> <span style=\"background-color: #FFF2F2\">company</span> <span style=\"background-color: #FFFAFA\">in</span> <span style=\"background-color: #FFF2F2\">this</span> <span style=\"background-color: #FFF8F8\">market</span> <span style=\"background-color: #FFECEC\">space</span> <span style=\"background-color: #FFF8F8\">,</span> <span style=\"background-color: #FFFAFA\">our</span> <span style=\"background-color: #FFF8F8\">client</span> <span style=\"background-color: #FFFAFA\">are</span> <span style=\"background-color: #FEFEFF\">an</span> <span style=\"background-color: #FFECEC\">ethical</span> <span style=\"background-color: #FFFAFA\">and</span> <span style=\"background-color: #FFF2F2\">dynamic</span> <span style=\"background-color: #FFF2F2\">organisation</span> <span style=\"background-color: #FFFEFE\">absolutely</span> <span style=\"background-color: #FFFCFC\">committed</span> <span style=\"background-color: #FFF0F0\">to</span> <span style=\"background-color: #FFFAFA\">the</span> <span style=\"background-color: #FFEAEA\">advancement</span> <span style=\"background-color: #FEFEFF\">of</span> <span style=\"background-color: #FFF8F8\">innovative</span> <span style=\"background-color: #FFF2F2\">technologies</span> <span style=\"background-color: #FFF4F4\">.</span> <span style=\"background-color: #FFEEEE\">job</span> <span style=\"background-color: #FFFAFA\">title</span> <span style=\"background-color: #FFF6F6\">:</span> <span style=\"background-color: #FEFEFF\">sales</span> <span style=\"background-color: #FFFAFA\">specialist</span> <span style=\"background-color: #FFF4F4\">iv</span> <span style=\"background-color: #FFF6F6\">access</span> <span style=\"background-color: #FFFAFA\">and</span> <span style=\"background-color: #FFEEEE\">infusion</span> <span style=\"background-color: #FFF6F6\">selling</span> <span style=\"background-color: #FFF6F6\">:</span> <span style=\"background-color: #FFEEEE\">medication</span> <span style=\"background-color: #FFF2F2\">delivery</span> <span style=\"background-color: #FFF8F8\">solutions</span> <span style=\"background-color: #FFF6F6\">selling</span> <span style=\"background-color: #FFF0F0\">to</span> <span style=\"background-color: #FFF6F6\">:</span> <span style=\"background-color: #FFF4F4\">iv</span> <span style=\"background-color: #F8F8FF\">teams</span> <span style=\"background-color: #FFF8F8\">,</span> <span style=\"background-color: #FFF4F4\">infection</span> <span style=\"background-color: #FFF8F8\">control</span> <span style=\"background-color: #FFF8F8\">,</span> <span style=\"background-color: #FFFAFA\">lead</span> <span style=\"background-color: #FFF2F2\">intensive</span> <span style=\"background-color: #FFEEEE\">care</span> <span style=\"background-color: #FFF4F4\">nurse</span> <span style=\"background-color: #FFF2F2\">specialists</span> <span style=\"background-color: #FFF8F8\">,</span> <span style=\"background-color: #FFF6F6\">ward</span> <span style=\"background-color: #FFFCFC\">managers</span> <span style=\"background-color: #FFF2F2\">territory</span> <span style=\"background-color: #FFF6F6\">:</span> <span style=\"background-color: #FFF6F6\">east</span> <span style=\"background-color: #FFF0F0\">midlands</span> <span style=\"background-color: #FFF0F0\">location</span> <span style=\"background-color: #FFF6F6\">:</span> <span style=\"background-color: #FFF6F6\">east</span> <span style=\"background-color: #FFF0F0\">midlands</span> <span style=\"background-color: #FFF4F4\">package</span> <span style=\"background-color: #FFF6F6\">:</span> <span style=\"background-color: #FFEAEA\">basic</span> <span style=\"background-color: #FFF6F6\">:</span> <span style=\"background-color: #FFF4F4\">****</span> <span style=\"background-color: #FFF4F4\">k</span> <span style=\"background-color: #FFF4F4\">****</span> <span style=\"background-color: #FFF4F4\">k</span> <span style=\"background-color: #FFF8F8\">,</span> <span style=\"background-color: #FFF2F2\">uncapped</span> <span style=\"background-color: #FFEEEE\">bonus</span> <span style=\"background-color: #FFFAFA\">in</span> <span style=\"background-color: #FFEAEA\">addition</span> <span style=\"background-color: #FFF8F8\">,</span> <span style=\"background-color: #FFF8F8\">full</span> <span style=\"background-color: #FFFCFC\">corporate</span> <span style=\"background-color: #FFFCFC\">benefits</span> <span style=\"background-color: #FFF2F2\">company</span> <span style=\"background-color: #FFFCFC\">information</span> <span style=\"background-color: #FFFCFC\">hugely</span> <span style=\"background-color: #FFECEC\">ethical</span> <span style=\"background-color: #FFFAFA\">and</span> <span style=\"background-color: #FFEEEE\">professional</span> <span style=\"background-color: #FCFCFF\">global</span> <span style=\"background-color: #FFF2F2\">organisation</span> <span style=\"background-color: #FFF4F4\">extremely</span> <span style=\"background-color: #FFE8E8\">well</span> <span style=\"background-color: #FFF2F2\">established</span> <span style=\"background-color: #FFFAFA\">in</span> <span style=\"background-color: #FFFAFA\">the</span> <span style=\"background-color: #FFFEFE\">uk</span> <span style=\"background-color: #FFFAFA\">the</span> <span style=\"background-color: #FFF8F8\">market</span> <span style=\"background-color: #FFFAFA\">leader</span> <span style=\"background-color: #FFFAFA\">across</span> <span style=\"background-color: #FFEEEE\">all</span> <span style=\"background-color: #FEFEFF\">of</span> <span style=\"background-color: #FFEAEA\">their</span> <span style=\"background-color: #FFF8F8\">core</span> <span style=\"background-color: #EEEEFF\">business</span> <span style=\"background-color: #FFF0F0\">areas</span> <span style=\"background-color: #FFF6F6\">focus</span> <span style=\"background-color: #FFF6F6\">on</span> <span style=\"background-color: #FFEEEE\">providing</span> <span style=\"background-color: #FFF0F0\">cutting</span> <span style=\"background-color: #FFF6F6\">edge</span> <span style=\"background-color: #FFF8F8\">solutions</span> <span style=\"background-color: #FFF4F4\">along</span> <span style=\"background-color: #FFFEFE\">with</span> <span style=\"background-color: #FFFAFA\">outstanding</span> <span style=\"background-color: #FFF0F0\">service</span> <span style=\"background-color: #FFFAFA\">and</span> <span style=\"background-color: #FFF4F4\">support</span> <span style=\"background-color: #FFF4F4\">a</span> <span style=\"background-color: #EEEEFF\">business</span> <span style=\"background-color: #FFEAEA\">that</span> <span style=\"background-color: #FFF0F0\">retain</span> <span style=\"background-color: #FFF2F2\">talented</span> <span style=\"background-color: #FFF4F4\">personnel</span> <span style=\"background-color: #FFF6F6\">by</span> <span style=\"background-color: #FFFCFC\">offering</span> <span style=\"background-color: #FFF4F4\">a</span> <span style=\"background-color: #FFF6F6\">strong</span> <span style=\"background-color: #FFECEC\">platform</span> <span style=\"background-color: #FFF4F4\">for</span> <span style=\"background-color: #FFEEEE\">career</span> <span style=\"background-color: #FCFCFF\">development</span> <span style=\"background-color: #FEFEFF\">sales</span> <span style=\"background-color: #FFFAFA\">specialist</span> <span style=\"background-color: #FFF4F4\">iv</span> <span style=\"background-color: #FFF6F6\">access</span> <span style=\"background-color: #FFFAFA\">and</span> <span style=\"background-color: #FFEEEE\">infusion</span> <span style=\"background-color: #FFEEEE\">you</span> <span style=\"background-color: #FFF0F0\">must</span> <span style=\"background-color: #FFF8F8\">have</span> <span style=\"background-color: #FFFAFA\">/</span> <span style=\"background-color: #FFF0F0\">be</span> <span style=\"background-color: #FFFAFA\">the</span> <span style=\"background-color: #FFECEC\">following</span> <span style=\"background-color: #FFF8F8\">at</span> <span style=\"background-color: #FFECEC\">least</span> <span style=\"background-color: #FFF6F6\">2</span> <span style=\"background-color: #FFF8F8\">years</span> <span style=\"background-color: #FAFAFF\">medical</span> <span style=\"background-color: #FFFCFC\">device</span> <span style=\"background-color: #FEFEFF\">sales</span> <span style=\"background-color: #FFF8F8\">experience</span> <span style=\"background-color: #FFF4F4\">.</span> <span style=\"background-color: #FFF4F4\">candidates</span> <span style=\"background-color: #FFF4F4\">who</span> <span style=\"background-color: #FFF8F8\">have</span> <span style=\"background-color: #FFEAEA\">sold</span> <span style=\"background-color: #FFF2F2\">disposables</span> <span style=\"background-color: #FFFAFA\">/</span> <span style=\"background-color: #FFF8F8\">consumables</span> <span style=\"background-color: #FFFCFC\">or</span> <span style=\"background-color: #FFF8F8\">similar</span> <span style=\"background-color: #FFFEFE\">into</span> <span style=\"background-color: #FFEEEE\">hospitals</span> <span style=\"background-color: #FFF8F8\">would</span> <span style=\"background-color: #FFF0F0\">be</span> <span style=\"background-color: #FEFEFF\">of</span> <span style=\"background-color: #FFF8F8\">particular</span> <span style=\"background-color: #FFF2F2\">interest</span> <span style=\"background-color: #FFF4F4\">.</span> <span style=\"background-color: #FFF4F4\">candidates</span> <span style=\"background-color: #FFF0F0\">must</span> <span style=\"background-color: #FFF8F8\">have</span> <span style=\"background-color: #FFEAEA\">sold</span> <span style=\"background-color: #FFFEFE\">into</span> <span style=\"background-color: #FFEEEE\">hospitals</span> <span style=\"background-color: #FFF4F4\">demonstrable</span> <span style=\"background-color: #FFF6F6\">performance</span> <span style=\"background-color: #FFFAFA\">and</span> <span style=\"background-color: #FFF6F6\">achievements</span> <span style=\"background-color: #FFF8F8\">so</span> <span style=\"background-color: #FFF0F0\">far</span> <span style=\"background-color: #FFF8F8\">personable</span> <span style=\"background-color: #FFF8F8\">,</span> <span style=\"background-color: #FFFEFE\">adaptable</span> <span style=\"background-color: #FFFAFA\">and</span> <span style=\"background-color: #FFFCFC\">willing</span> <span style=\"background-color: #FFF0F0\">to</span> <span style=\"background-color: #FFF8F8\">learn</span> <span style=\"background-color: #FFF2F2\">keen</span> <span style=\"background-color: #FFFAFA\">and</span> <span style=\"background-color: #FEFEFF\">eager</span> <span style=\"background-color: #FFF0F0\">to</span> <span style=\"background-color: #FFF0F0\">be</span> <span style=\"background-color: #FFF4F4\">a</span> <span style=\"background-color: #FFF8F8\">success</span> <span style=\"background-color: #FFF4F4\">candidates</span> <span style=\"background-color: #FFF0F0\">must</span> <span style=\"background-color: #FFF8F8\">have</span> <span style=\"background-color: #FFF4F4\">a</span> <span style=\"background-color: #FFFCFC\">degree</span> <span style=\"background-color: #FFFCFC\">or</span> <span style=\"background-color: #FFF8F8\">at</span> <span style=\"background-color: #FFECEC\">least</span> <span style=\"background-color: #FFF0F0\">be</span> <span style=\"background-color: #FFF8F8\">able</span> <span style=\"background-color: #FFF0F0\">to</span> <span style=\"background-color: #FFF6F6\">show</span> <span style=\"background-color: #FFF4F4\">a</span> <span style=\"background-color: #FFF6F6\">strong</span> <span style=\"background-color: #FFEAEA\">ability</span> <span style=\"background-color: #FFF0F0\">to</span> <span style=\"background-color: #FFF8F8\">learn</span> <span style=\"background-color: #FFEEEE\">role</span> <span style=\"background-color: #FFFCFC\">information</span> <span style=\"background-color: #FFF2F2\">managing</span> <span style=\"background-color: #FFFAFA\">the</span> <span style=\"background-color: #FFF6F6\">east</span> <span style=\"background-color: #FFF0F0\">midlands</span> <span style=\"background-color: #FFF4F4\">region</span> <span style=\"background-color: #FFF6F6\">selling</span> <span style=\"background-color: #FFFAFA\">across</span> <span style=\"background-color: #FFFAFA\">the</span> <span style=\"background-color: #FFF2F2\">company</span> <span style=\"background-color: #FFF4F4\">'</span> <span style=\"background-color: #FFEAEA\">s</span> <span style=\"background-color: #FFFAFA\">range</span> <span style=\"background-color: #FEFEFF\">of</span> <span style=\"background-color: #FFF4F4\">iv</span> <span style=\"background-color: #FFFAFA\">and</span> <span style=\"background-color: #FFEEEE\">infusion</span> <span style=\"background-color: #FFF8F8\">solutions</span> <span style=\"background-color: #FFF4F4\">portfolio</span> <span style=\"background-color: #FFF6F6\">selling</span> <span style=\"background-color: #FFFEFE\">into</span> <span style=\"background-color: #FFFAFA\">lead</span> <span style=\"background-color: #FFF2F2\">intensive</span> <span style=\"background-color: #FFEEEE\">care</span> <span style=\"background-color: #FFF4F4\">nurse</span> <span style=\"background-color: #FFF2F2\">specialists</span> <span style=\"background-color: #FFF8F8\">,</span> <span style=\"background-color: #FFF6F6\">ward</span> <span style=\"background-color: #FFFCFC\">managers</span> <span style=\"background-color: #FFF8F8\">,</span> <span style=\"background-color: #FFF4F4\">iv</span> <span style=\"background-color: #F8F8FF\">teams</span> <span style=\"background-color: #FFF8F8\">,</span> <span style=\"background-color: #FFF4F4\">infection</span> <span style=\"background-color: #FFF8F8\">control</span> <span style=\"background-color: #F8F8FF\">teams</span> <span style=\"background-color: #FFF8F8\">,</span> <span style=\"background-color: #FFEEEE\">procurement</span> <span style=\"background-color: #FEFEFF\">sales</span> <span style=\"background-color: #FFFAFA\">specialist</span> <span style=\"background-color: #FFF4F4\">iv</span> <span style=\"background-color: #FFF6F6\">access</span> <span style=\"background-color: #FFFAFA\">and</span> <span style=\"background-color: #FFEEEE\">infusion</span> <span style=\"background-color: #FFF4F4\">candidates</span> <span style=\"background-color: #FFF0F0\">must</span> <span style=\"background-color: #FFF0F0\">be</span> <span style=\"background-color: #FFF2F2\">eligible</span> <span style=\"background-color: #FFF0F0\">to</span> <span style=\"background-color: #FFF0F0\">work</span> <span style=\"background-color: #FFFAFA\">and</span> <span style=\"background-color: #FFF0F0\">live</span> <span style=\"background-color: #FFFAFA\">in</span> <span style=\"background-color: #FFFAFA\">the</span> <span style=\"background-color: #FFFEFE\">uk</span> <span style=\"background-color: #FFF4F4\">.</span> <span style=\"background-color: #FFF4F4\">please</span> <span style=\"background-color: #FFECEC\">contact</span> <span style=\"background-color: #FFF8F8\">allan</span> <span style=\"background-color: #FFF8F8\">waller</span> <span style=\"background-color: #FFF6F6\">on</span> <span style=\"background-color: #FFF4F4\">****</span> <span style=\"background-color: #FFF4F4\">****</span> <span style=\"background-color: #FFF4F4\">****</span> <span style=\"background-color: #FFFCFC\">or</span> <span style=\"background-color: #FFF4F4\">please</span> <span style=\"background-color: #FFF4F4\">hit</span> <span style=\"background-color: #FFFAFA\">the</span> <span style=\"background-color: #FFF6F6\">apply</span> <span style=\"background-color: #FEFEFF\">button</span> <span style=\"background-color: #FFF4F4\">.</span> <span style=\"background-color: #FFF2F2\">this</span> <span style=\"background-color: #FFEEEE\">job</span> <span style=\"background-color: #FFF6F6\">was</span> <span style=\"background-color: #FFF0F0\">originally</span> <span style=\"background-color: #FFF8F8\">posted</span> <span style=\"background-color: #FFF0F0\">as</span> <span style=\"background-color: #FFFAFA\">www</span> <span style=\"background-color: #FFF4F4\">.</span> <span style=\"background-color: #FFFCFC\">salestarget</span> <span style=\"background-color: #FFF4F4\">.</span> <span style=\"background-color: #FFF0F0\">co</span> <span style=\"background-color: #FFF4F4\">.</span> <span style=\"background-color: #FFFEFE\">uk</span> <span style=\"background-color: #FFFAFA\">/</span> <span style=\"background-color: #FFF8F8\">jobseeking</span> <span style=\"background-color: #FFFAFA\">/</span> <span style=\"background-color: #FFFEFE\">UNK</span> <span style=\"background-color: #FFF4F4\">****</span></p>"
      ]
     },
     "metadata": {},
     "output_type": "display_data"
    }
   ],
   "source": [
    "i = 36605\n",
    "tokens_and_weights = explain(model, data.loc[i], \"Title\")\n",
    "draw_html([(tok, weight * 5) for tok, weight in tokens_and_weights], font_style='font-size:20px;');\n",
    "\n",
    "tokens_and_weights = explain(model, data.loc[i], \"FullDescription\")\n",
    "draw_html([(tok, weight * 10) for tok, weight in tokens_and_weights]);"
   ]
  },
  {
   "cell_type": "code",
   "execution_count": 44,
   "metadata": {},
   "outputs": [
    {
     "data": {
      "text/html": [
       "<p style=\"font-size:20px;\"><span style=\"background-color: #9090FF\">cleaning</span> <span style=\"background-color: #FF5E5E\">operative</span></p>"
      ]
     },
     "metadata": {},
     "output_type": "display_data"
    },
    {
     "data": {
      "text/html": [
       "<p style=\"font-size:14px;\"><span style=\"background-color: #FFDCDC\">12</span> <span style=\"background-color: #FFCECE\">.</span> <span style=\"background-color: #FFEEEE\">5</span> <span style=\"background-color: #FFEEEE\">hours</span> <span style=\"background-color: #FF8686\">per</span> <span style=\"background-color: #FFE4E4\">week</span> <span style=\"background-color: #FFD3D3\">monday</span> <span style=\"background-color: #FFD0D0\">friday</span> <span style=\"background-color: #FFC3C3\">9am</span> <span style=\"background-color: #FFF2F2\">11</span> <span style=\"background-color: #FFCECE\">.</span> <span style=\"background-color: #FFD6D6\">30am</span> <span style=\"background-color: #FF9E9E\">duties</span> <span style=\"background-color: #FFBCBC\">to</span> <span style=\"background-color: #FFB2B2\">include</span> <span style=\"background-color: #FFBABA\">sweeping</span> <span style=\"background-color: #FFE0E0\">,</span> <span style=\"background-color: #FFDADA\">mopping</span> <span style=\"background-color: #FFE0E0\">,</span> <span style=\"background-color: #FFDEDE\">vacuuming</span> <span style=\"background-color: #FFE0E0\">,</span> <span style=\"background-color: #FFC6C6\">buffing</span> <span style=\"background-color: #FFE0E0\">,</span> <span style=\"background-color: #FFB2B2\">cleaning</span> <span style=\"background-color: #FCFCFF\">staff</span> <span style=\"background-color: #FFD0D0\">toilets</span> <span style=\"background-color: #FFE8E8\">and</span> <span style=\"background-color: #FFC3C3\">rest</span> <span style=\"background-color: #FFB6B6\">room</span> <span style=\"background-color: #FFCECE\">.</span> <span style=\"background-color: #FFB2B2\">must</span> <span style=\"background-color: #FFBCBC\">be</span> <span style=\"background-color: #FFD8D8\">able</span> <span style=\"background-color: #FFBCBC\">to</span> <span style=\"background-color: #FFB3B3\">read</span> <span style=\"background-color: #FFBCBC\">as</span> <span style=\"background-color: #FFF8F8\">they</span> <span style=\"background-color: #FFE8E8\">will</span> <span style=\"background-color: #FFBCBC\">be</span> <span style=\"background-color: #FFE4E4\">using</span> <span style=\"background-color: #FFFEFE\">UNK</span> <span style=\"background-color: #FFA2A2\">which</span> <span style=\"background-color: #FFAEAE\">need</span> <span style=\"background-color: #FFFEFE\">UNK</span> <span style=\"background-color: #FFBCBC\">as</span> <span style=\"background-color: #FF8686\">per</span> <span style=\"background-color: #FFE4E4\">instructions</span> <span style=\"background-color: #FFDCDC\">on</span> <span style=\"background-color: #FFEAEA\">the</span> <span style=\"background-color: #FFD3D3\">containers</span> <span style=\"background-color: #FFCECE\">.</span> <span style=\"background-color: #FFD2D2\">sucessfull</span> <span style=\"background-color: #FFB8B8\">applicants</span> <span style=\"background-color: #FFE8E8\">will</span> <span style=\"background-color: #FFBCBC\">be</span> <span style=\"background-color: #FFDADA\">trained</span> <span style=\"background-color: #FFDCDC\">on</span> <span style=\"background-color: #FFB0B0\">all</span> <span style=\"background-color: #FFCACA\">electrical</span> <span style=\"background-color: #FFC8C8\">appliances</span> <span style=\"background-color: #FFE8E8\">and</span> <span style=\"background-color: #FFFEFE\">UNK</span> <span style=\"background-color: #FFFEFE\">of</span> <span style=\"background-color: #FFB2B2\">cleaning</span> <span style=\"background-color: #FFA3A3\">materials</span> <span style=\"background-color: #FFCECE\">.</span></p>"
      ]
     },
     "metadata": {},
     "output_type": "display_data"
    }
   ],
   "source": [
    "i = 12077\n",
    "tokens_and_weights = explain(model, data.loc[i], \"Title\")\n",
    "draw_html([(tok, weight * 5) for tok, weight in tokens_and_weights], font_style='font-size:20px;');\n",
    "\n",
    "tokens_and_weights = explain(model, data.loc[i], \"FullDescription\")\n",
    "draw_html([(tok, weight * 10) for tok, weight in tokens_and_weights]);"
   ]
  },
  {
   "cell_type": "code",
   "execution_count": 45,
   "metadata": {},
   "outputs": [
    {
     "name": "stdout",
     "output_type": "stream",
     "text": [
      "Index: 39712\n",
      "Salary (gbp): tensor([20285.7012])\n"
     ]
    },
    {
     "data": {
      "text/html": [
       "<p style=\"font-size:20px;\"><span style=\"background-color: #FF8C8C\">telesales</span></p>"
      ]
     },
     "metadata": {},
     "output_type": "display_data"
    },
    {
     "data": {
      "text/html": [
       "<p style=\"font-size:14px;\"><span style=\"background-color: #FFDCDC\">calling</span> <span style=\"background-color: #FFD3D3\">all</span> <span style=\"background-color: #FFECEC\">telesales</span> <span style=\"background-color: #FFF2F2\">and</span> <span style=\"background-color: #FFE4E4\">telemarketers</span> <span style=\"background-color: #FFECEC\">do</span> <span style=\"background-color: #FFD8D8\">you</span> <span style=\"background-color: #FFD8D8\">enjoy</span> <span style=\"background-color: #FFE2E2\">selling</span> <span style=\"background-color: #FFECEC\">on</span> <span style=\"background-color: #FFF6F6\">the</span> <span style=\"background-color: #FFDEDE\">telephone</span> <span style=\"background-color: #FFF4F4\">?</span> <span style=\"background-color: #FFECEC\">do</span> <span style=\"background-color: #FFD8D8\">you</span> <span style=\"background-color: #FFF0F0\">have</span> <span style=\"background-color: #FFE6E6\">a</span> <span style=\"background-color: #FFF0F0\">proven</span> <span style=\"background-color: #FFFCFC\">sales</span> <span style=\"background-color: #FFD8D8\">record</span> <span style=\"background-color: #FFF4F4\">?</span> <span style=\"background-color: #FFD2D2\">we</span> <span style=\"background-color: #FFF0F0\">have</span> <span style=\"background-color: #FFE6E6\">a</span> <span style=\"background-color: #FFD8D8\">number</span> <span style=\"background-color: #FFFCFC\">of</span> <span style=\"background-color: #FFD0D0\">exciting</span> <span style=\"background-color: #FFDEDE\">opportunities</span> <span style=\"background-color: #FFFCFC\">with</span> <span style=\"background-color: #FFDEDE\">uncapped</span> <span style=\"background-color: #FFEAEA\">commission</span> <span style=\"background-color: #FFF2F2\">in</span> <span style=\"background-color: #FFF2F2\">and</span> <span style=\"background-color: #FFE2E2\">around</span> <span style=\"background-color: #FFDADA\">maidstone</span> <span style=\"background-color: #FFE6E6\">.</span> <span style=\"background-color: #FFD2D2\">we</span> <span style=\"background-color: #FFF2F2\">are</span> <span style=\"background-color: #FFD3D3\">helping</span> <span style=\"background-color: #FFEEEE\">our</span> <span style=\"background-color: #FFF0F0\">client</span> <span style=\"background-color: #FFFAFA\">grow</span> <span style=\"background-color: #FFC8C8\">their</span> <span style=\"background-color: #EEEEFF\">team</span> <span style=\"background-color: #FFF2F2\">and</span> <span style=\"background-color: #FFD2D2\">we</span> <span style=\"background-color: #FFD3D3\">need</span> <span style=\"background-color: #FFDEDE\">to</span> <span style=\"background-color: #FFE2E2\">talk</span> <span style=\"background-color: #FFDEDE\">to</span> <span style=\"background-color: #FFD8D8\">you</span> <span style=\"background-color: #FFE0E0\">if</span> <span style=\"background-color: #FFD8D8\">you</span> <span style=\"background-color: #FFF0F0\">have</span> <span style=\"background-color: #FFE8E8\">some</span> <span style=\"background-color: #FFF4F4\">out</span> <span style=\"background-color: #FFECEC\">bound</span> <span style=\"background-color: #FFFCFC\">sales</span> <span style=\"background-color: #FFEEEE\">experience</span> <span style=\"background-color: #FFF2F2\">and</span> <span style=\"background-color: #FFFAFA\">want</span> <span style=\"background-color: #FFDEDE\">to</span> <span style=\"background-color: #FFF6F6\">earn</span> <span style=\"background-color: #FFE2E2\">great</span> <span style=\"background-color: #FFD3D3\">bonus</span> <span style=\"background-color: #FFD8D8\">you</span> <span style=\"background-color: #FFD8D8\">must</span> <span style=\"background-color: #FFF0F0\">have</span> <span style=\"background-color: #FFFEFE\">an</span> <span style=\"background-color: #FFE6E6\">excellent</span> <span style=\"background-color: #FFDEDE\">telephone</span> <span style=\"background-color: #FFDCDC\">manner</span> <span style=\"background-color: #FFF2F2\">and</span> <span style=\"background-color: #FFF0F0\">have</span> <span style=\"background-color: #FFCCCC\">previous</span> <span style=\"background-color: #FFFCFC\">sales</span> <span style=\"background-color: #FFEEEE\">experience</span> <span style=\"background-color: #FFE6E6\">.</span> <span style=\"background-color: #FFF6F6\">the</span> <span style=\"background-color: #FFD6D6\">role</span> <span style=\"background-color: #FFF4F4\">will</span> <span style=\"background-color: #FFF4F4\">involve</span> <span style=\"background-color: #FFD8D8\">you</span> <span style=\"background-color: #FFDCDC\">calling</span> <span style=\"background-color: #FFD3D3\">customers</span> <span style=\"background-color: #FFE2E2\">either</span> <span style=\"background-color: #FFF6F6\">cold</span> <span style=\"background-color: #FFDADA\">calls</span> <span style=\"background-color: #FFF6F6\">or</span> <span style=\"background-color: #FFF4F4\">from</span> <span style=\"background-color: #FFDCDC\">warm</span> <span style=\"background-color: #FFEEEE\">leads</span> <span style=\"background-color: #FFE6E6\">.</span> <span style=\"background-color: #FFF0F0\">full</span> <span style=\"background-color: #FFDEDE\">training</span> <span style=\"background-color: #FFE8E8\">is</span> <span style=\"background-color: #FFE6E6\">provided</span> <span style=\"background-color: #FFECEC\">so</span> <span style=\"background-color: #FFD8D8\">you</span> <span style=\"background-color: #FFF4F4\">can</span> <span style=\"background-color: #FFEEEE\">learn</span> <span style=\"background-color: #FFD3D3\">all</span> <span style=\"background-color: #FFE8E8\">systems</span> <span style=\"background-color: #FFF2F2\">and</span> <span style=\"background-color: #FFFEFE\">products</span> <span style=\"background-color: #FFE6E6\">.</span> <span style=\"background-color: #FFE4E4\">please</span> <span style=\"background-color: #FFD0D0\">only</span> <span style=\"background-color: #FFE8E8\">apply</span> <span style=\"background-color: #FFE0E0\">if</span> <span style=\"background-color: #FFD8D8\">you</span> <span style=\"background-color: #FFF0F0\">have</span> <span style=\"background-color: #FFFAFA\">relevant</span> <span style=\"background-color: #FFFCFC\">sales</span> <span style=\"background-color: #FFEEEE\">experience</span> <span style=\"background-color: #FFD8D8\">due</span> <span style=\"background-color: #FFDEDE\">to</span> <span style=\"background-color: #FFF6F6\">the</span> <span style=\"background-color: #FFE6E6\">high</span> <span style=\"background-color: #FFF0F0\">volume</span> <span style=\"background-color: #FFFCFC\">of</span> <span style=\"background-color: #F8F8FF\">applications</span> <span style=\"background-color: #FFD2D2\">we</span> <span style=\"background-color: #FFE8E8\">regret</span> <span style=\"background-color: #FFCCCC\">that</span> <span style=\"background-color: #FFD0D0\">only</span> <span style=\"background-color: #FFEAEA\">successful</span> <span style=\"background-color: #FFE8E8\">candidates</span> <span style=\"background-color: #FFF4F4\">will</span> <span style=\"background-color: #FFDADA\">be</span> <span style=\"background-color: #FFDADA\">contacted</span></p>"
      ]
     },
     "metadata": {},
     "output_type": "display_data"
    }
   ],
   "source": [
    "i = np.random.randint(len(data))\n",
    "print(\"Index:\", i)\n",
    "print(\"Salary (gbp):\", np.expm1(model(make_batch(data.iloc[i: i+1], device=device)).detach().cpu()))\n",
    "\n",
    "tokens_and_weights = explain(model, data.loc[i], \"Title\")\n",
    "draw_html([(tok, weight * 5) for tok, weight in tokens_and_weights], font_style='font-size:20px;');\n",
    "\n",
    "tokens_and_weights = explain(model, data.loc[i], \"FullDescription\")\n",
    "draw_html([(tok, weight * 10) for tok, weight in tokens_and_weights]);"
   ]
  },
  {
   "cell_type": "markdown",
   "metadata": {},
   "source": [
    "__Terrible start-up idea #1962:__ make a tool that automaticaly rephrases your job description (or CV) to meet salary expectations :)"
   ]
  },
  {
   "cell_type": "markdown",
   "metadata": {},
   "source": []
  },
  {
   "cell_type": "markdown",
   "metadata": {},
   "source": []
  }
 ],
 "metadata": {
  "kernelspec": {
   "display_name": ".venv",
   "language": "python",
   "name": "python3"
  },
  "language_info": {
   "codemirror_mode": {
    "name": "ipython",
    "version": 3
   },
   "file_extension": ".py",
   "mimetype": "text/x-python",
   "name": "python",
   "nbconvert_exporter": "python",
   "pygments_lexer": "ipython3",
   "version": "3.11.0"
  }
 },
 "nbformat": 4,
 "nbformat_minor": 4
}
